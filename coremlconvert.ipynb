{
 "cells": [
  {
   "cell_type": "code",
   "execution_count": null,
   "metadata": {
    "scrolled": false
   },
   "outputs": [],
   "source": [
    "import coremltools as ct\n",
    "\n",
    "path='C:'\n",
    "# .h5 file path\n",
    "class_labels=(['>60msec under','40-60msec under','20-40msec under','null range','20-40msec over','40-60msec over','>60msec over'])\n",
    "# define gategory labels\n",
    "\n",
    "coreml_model = ct.converters.keras.convert(model,class_labels=class_labels)\n",
    "coreml_model.save('./TI_1000_VGG16_pretrained_lastfinetune.mlmodel')\n",
    " "
   ]
  }
 ],
 "metadata": {
  "kernelspec": {
   "display_name": "Python 3",
   "language": "python",
   "name": "python3"
  },
  "language_info": {
   "codemirror_mode": {
    "name": "ipython",
    "version": 3
   },
   "file_extension": ".py",
   "mimetype": "text/x-python",
   "name": "python",
   "nbconvert_exporter": "python",
   "pygments_lexer": "ipython3",
   "version": "3.8.5"
  }
 },
 "nbformat": 4,
 "nbformat_minor": 2
}
