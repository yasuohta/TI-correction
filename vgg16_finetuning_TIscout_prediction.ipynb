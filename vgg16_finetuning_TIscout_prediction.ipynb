{
 "cells": [
  {
   "cell_type": "code",
   "execution_count": 1,
   "metadata": {
    "collapsed": true
   },
   "outputs": [],
   "source": [
    "%matplotlib inline"
   ]
  },
  {
   "cell_type": "code",
   "execution_count": 1,
   "metadata": {},
   "outputs": [
    {
     "name": "stderr",
     "output_type": "stream",
     "text": [
      "Using TensorFlow backend.\n"
     ]
    }
   ],
   "source": [
    "import tensorflow as tf\n",
    "from keras import backend as K\n",
    "from PIL import Image #winでは無し\n",
    "from keras.preprocessing import image\n",
    "#winでは無し\n",
    "#config = tf.ConfigProto(gpu_options=tf.GPUOptions(allow_growth=True))\n",
    "#sess = tf.Session(config=config)\n",
    "#K.set_session(sess)"
   ]
  },
  {
   "cell_type": "code",
   "execution_count": 3,
   "metadata": {
    "scrolled": true
   },
   "outputs": [
    {
     "name": "stdout",
     "output_type": "stream",
     "text": [
      "_________________________________________________________________\n",
      "Layer (type)                 Output Shape              Param #   \n",
      "=================================================================\n",
      "input_1 (InputLayer)         (None, 224, 224, 3)       0         \n",
      "_________________________________________________________________\n",
      "block1_conv1 (Conv2D)        (None, 224, 224, 64)      1792      \n",
      "_________________________________________________________________\n",
      "block1_conv2 (Conv2D)        (None, 224, 224, 64)      36928     \n",
      "_________________________________________________________________\n",
      "block1_pool (MaxPooling2D)   (None, 112, 112, 64)      0         \n",
      "_________________________________________________________________\n",
      "block2_conv1 (Conv2D)        (None, 112, 112, 128)     73856     \n",
      "_________________________________________________________________\n",
      "block2_conv2 (Conv2D)        (None, 112, 112, 128)     147584    \n",
      "_________________________________________________________________\n",
      "block2_pool (MaxPooling2D)   (None, 56, 56, 128)       0         \n",
      "_________________________________________________________________\n",
      "block3_conv1 (Conv2D)        (None, 56, 56, 256)       295168    \n",
      "_________________________________________________________________\n",
      "block3_conv2 (Conv2D)        (None, 56, 56, 256)       590080    \n",
      "_________________________________________________________________\n",
      "block3_conv3 (Conv2D)        (None, 56, 56, 256)       590080    \n",
      "_________________________________________________________________\n",
      "block3_pool (MaxPooling2D)   (None, 28, 28, 256)       0         \n",
      "_________________________________________________________________\n",
      "block4_conv1 (Conv2D)        (None, 28, 28, 512)       1180160   \n",
      "_________________________________________________________________\n",
      "block4_conv2 (Conv2D)        (None, 28, 28, 512)       2359808   \n",
      "_________________________________________________________________\n",
      "block4_conv3 (Conv2D)        (None, 28, 28, 512)       2359808   \n",
      "_________________________________________________________________\n",
      "block4_pool (MaxPooling2D)   (None, 14, 14, 512)       0         \n",
      "_________________________________________________________________\n",
      "block5_conv1 (Conv2D)        (None, 14, 14, 512)       2359808   \n",
      "_________________________________________________________________\n",
      "block5_conv2 (Conv2D)        (None, 14, 14, 512)       2359808   \n",
      "_________________________________________________________________\n",
      "block5_conv3 (Conv2D)        (None, 14, 14, 512)       2359808   \n",
      "_________________________________________________________________\n",
      "block5_pool (MaxPooling2D)   (None, 7, 7, 512)         0         \n",
      "=================================================================\n",
      "Total params: 14,714,688\n",
      "Trainable params: 14,714,688\n",
      "Non-trainable params: 0\n",
      "_________________________________________________________________\n"
     ]
    }
   ],
   "source": [
    "from keras.applications.vgg16 import VGG16\n",
    "\n",
    "vgg16 = VGG16(include_top=False, weights = None, input_shape=(224, 224, 3))\n",
    "\n",
    "vgg16.summary()"
   ]
  },
  {
   "cell_type": "code",
   "execution_count": 4,
   "metadata": {
    "collapsed": true
   },
   "outputs": [],
   "source": [
    "from keras.models import Sequential\n",
    "from keras.layers import Dense, Dropout, Flatten\n",
    "from keras.optimizers import SGD\n",
    "#tensorflow.python.kerasが元\n",
    "\n",
    "def build_transfer_model(vgg16):\n",
    "    model =  Sequential(vgg16.layers)\n",
    "     \n",
    "    #for layer in model.layers[:15]:\n",
    "    #       layer.trainable = False\n",
    "            \n",
    "    model.add(Flatten())\n",
    "    model.add(Dense(256, activation = 'relu'))\n",
    "    model.add(Dropout(0.5))\n",
    "    model.add(Dense(7,activation = 'sigmoid')) #number should be changed depend on the categories\n",
    "        \n",
    "    return model\n",
    "        \n",
    "model = build_transfer_model(vgg16)"
   ]
  },
  {
   "cell_type": "code",
   "execution_count": 5,
   "metadata": {
    "collapsed": true
   },
   "outputs": [],
   "source": [
    "\n",
    "model.compile(\n",
    "    loss = 'categorical_crossentropy',\n",
    "    optimizer=SGD(lr=0.01, momentum=0.9),\n",
    "    #optimizer=Adam(lr=0.001),  \n",
    "    metrics = ['accuracy']\n",
    ")"
   ]
  },
  {
   "cell_type": "code",
   "execution_count": 6,
   "metadata": {},
   "outputs": [
    {
     "name": "stdout",
     "output_type": "stream",
     "text": [
      "_________________________________________________________________\n",
      "Layer (type)                 Output Shape              Param #   \n",
      "=================================================================\n",
      "input_1 (InputLayer)         (None, 224, 224, 3)       0         \n",
      "_________________________________________________________________\n",
      "block1_conv1 (Conv2D)        (None, 224, 224, 64)      1792      \n",
      "_________________________________________________________________\n",
      "block1_conv2 (Conv2D)        (None, 224, 224, 64)      36928     \n",
      "_________________________________________________________________\n",
      "block1_pool (MaxPooling2D)   (None, 112, 112, 64)      0         \n",
      "_________________________________________________________________\n",
      "block2_conv1 (Conv2D)        (None, 112, 112, 128)     73856     \n",
      "_________________________________________________________________\n",
      "block2_conv2 (Conv2D)        (None, 112, 112, 128)     147584    \n",
      "_________________________________________________________________\n",
      "block2_pool (MaxPooling2D)   (None, 56, 56, 128)       0         \n",
      "_________________________________________________________________\n",
      "block3_conv1 (Conv2D)        (None, 56, 56, 256)       295168    \n",
      "_________________________________________________________________\n",
      "block3_conv2 (Conv2D)        (None, 56, 56, 256)       590080    \n",
      "_________________________________________________________________\n",
      "block3_conv3 (Conv2D)        (None, 56, 56, 256)       590080    \n",
      "_________________________________________________________________\n",
      "block3_pool (MaxPooling2D)   (None, 28, 28, 256)       0         \n",
      "_________________________________________________________________\n",
      "block4_conv1 (Conv2D)        (None, 28, 28, 512)       1180160   \n",
      "_________________________________________________________________\n",
      "block4_conv2 (Conv2D)        (None, 28, 28, 512)       2359808   \n",
      "_________________________________________________________________\n",
      "block4_conv3 (Conv2D)        (None, 28, 28, 512)       2359808   \n",
      "_________________________________________________________________\n",
      "block4_pool (MaxPooling2D)   (None, 14, 14, 512)       0         \n",
      "_________________________________________________________________\n",
      "block5_conv1 (Conv2D)        (None, 14, 14, 512)       2359808   \n",
      "_________________________________________________________________\n",
      "block5_conv2 (Conv2D)        (None, 14, 14, 512)       2359808   \n",
      "_________________________________________________________________\n",
      "block5_conv3 (Conv2D)        (None, 14, 14, 512)       2359808   \n",
      "_________________________________________________________________\n",
      "block5_pool (MaxPooling2D)   (None, 7, 7, 512)         0         \n",
      "_________________________________________________________________\n",
      "flatten_1 (Flatten)          (None, 25088)             0         \n",
      "_________________________________________________________________\n",
      "dense_1 (Dense)              (None, 256)               6422784   \n",
      "_________________________________________________________________\n",
      "dropout_1 (Dropout)          (None, 256)               0         \n",
      "_________________________________________________________________\n",
      "dense_2 (Dense)              (None, 7)                 1799      \n",
      "=================================================================\n",
      "Total params: 21,139,271\n",
      "Trainable params: 21,139,271\n",
      "Non-trainable params: 0\n",
      "_________________________________________________________________\n"
     ]
    }
   ],
   "source": [
    "model.summary()"
   ]
  },
  {
   "cell_type": "code",
   "execution_count": 7,
   "metadata": {
    "collapsed": true
   },
   "outputs": [],
   "source": [
    "from keras.preprocessing.image import ImageDataGenerator\n",
    "#from tensorflow.python.keras.applications.vgg16 import preprocess_input\n",
    "\n",
    "\n",
    "idg_train = ImageDataGenerator(\n",
    "    rescale=1/255,\n",
    "    #featurewise_center=True,\n",
    "    #featurewise_std_normalization=True,\n",
    "    rotation_range=90,\n",
    "    shear_range=0.1,\n",
    "    zoom_range=0.1,\n",
    "    width_shift_range=0.2,\n",
    "    height_shift_range=0.2,\n",
    "    horizontal_flip=False,\n",
    "    vertical_flip=True,\n",
    "    #preprocessing_function=preprocess_input\n",
    ")\n",
    "\n",
    "idg_validation = ImageDataGenerator(\n",
    "    rescale=1/255\n",
    ")"
   ]
  },
  {
   "cell_type": "code",
   "execution_count": 8,
   "metadata": {},
   "outputs": [
    {
     "name": "stdout",
     "output_type": "stream",
     "text": [
      "Found 1114 images belonging to 7 classes.\n",
      "Found 160 images belonging to 7 classes.\n"
     ]
    }
   ],
   "source": [
    "classes=['-3','-2','-1','0','1','2','3']\n",
    "\n",
    "img_itr_train= idg_train.flow_from_directory(\n",
    "    '/Users/ohta/Documents/OneDrive - 国立研究開発法人 国立循環器病研究センター/TInull_182case_m3top3/train',\n",
    "    target_size=(224, 224),\n",
    "    batch_size=16,\n",
    "    classes=classes,\n",
    "    class_mode='categorical',\n",
    "    shuffle=True\n",
    ")\n",
    "img_itr_validation = idg_validation.flow_from_directory(\n",
    "    '/Users/ohta/Documents/OneDrive - 国立研究開発法人 国立循環器病研究センター/TInull_182case_m3top3/test',\n",
    "    target_size=(224, 224),\n",
    "    batch_size=16,\n",
    "    classes=classes,\n",
    "    class_mode='categorical'\n",
    ")"
   ]
  },
  {
   "cell_type": "code",
   "execution_count": 9,
   "metadata": {},
   "outputs": [
    {
     "name": "stdout",
     "output_type": "stream",
     "text": [
      "model_dir: models/190128_1317\n"
     ]
    }
   ],
   "source": [
    "import os\n",
    "from datetime import datetime\n",
    "model_dir = os.path.join(\n",
    "    'models',\n",
    "    datetime.now().strftime('%y%m%d_%H%M')\n",
    ")\n",
    "\n",
    "os.makedirs(model_dir, exist_ok=True)\n",
    "print('model_dir:', model_dir) # directory name to save\n",
    "            \n",
    "dir_weights = os.path.join(model_dir, 'weights')\n",
    "os.makedirs(dir_weights, exist_ok=True)\n",
    "            "
   ]
  },
  {
   "cell_type": "code",
   "execution_count": 10,
   "metadata": {
    "collapsed": true
   },
   "outputs": [],
   "source": [
    "import json\n",
    "import pickle\n",
    "\n",
    "model_json = os.path.join(model_dir, 'model.json')\n",
    "with open(model_json, 'w') as f:\n",
    "    json.dump(model.to_json(),f)\n",
    "        \n",
    "model_classes = os.path.join(model_dir, 'classes.pkl')\n",
    "with open(model_classes, 'wb') as f:\n",
    "    pickle.dump(img_itr_train.class_indices, f)"
   ]
  },
  {
   "cell_type": "code",
   "execution_count": 11,
   "metadata": {},
   "outputs": [
    {
     "name": "stdout",
     "output_type": "stream",
     "text": [
      "70 10\n"
     ]
    }
   ],
   "source": [
    "import math\n",
    "\n",
    "batch_size = 16\n",
    "steps_per_epoch = math.ceil(\n",
    "    img_itr_train.samples/batch_size\n",
    ")\n",
    "\n",
    "validation_steps = math.ceil(\n",
    "    img_itr_validation.samples/batch_size\n",
    ")\n",
    "print(steps_per_epoch,validation_steps)"
   ]
  },
  {
   "cell_type": "code",
   "execution_count": 12,
   "metadata": {
    "collapsed": true
   },
   "outputs": [],
   "source": [
    "from keras.callbacks import ModelCheckpoint, CSVLogger\n",
    "\n",
    "cp_filepath = os.path.join(dir_weights, 'ep_{epoch:02d}_ls_{loss:.1f}.h5')\n",
    "cp = ModelCheckpoint(\n",
    "                    cp_filepath,\n",
    "                    monitor='val_acc',\n",
    "                    verbose=0,\n",
    "                    save_best_only=True,\n",
    "                    save_weights_only=False,\n",
    "                    mode='max',\n",
    "                    period =5\n",
    "                    )\n",
    "\n",
    "csv_filepath = os.path.join(model_dir, 'loss.csv')\n",
    "csv = CSVLogger(csv_filepath, append=True)"
   ]
  },
  {
   "cell_type": "code",
   "execution_count": 13,
   "metadata": {
    "scrolled": false
   },
   "outputs": [
    {
     "name": "stdout",
     "output_type": "stream",
     "text": [
      "Epoch 1/10\n",
      "70/70 [==============================] - 3373s 48s/step - loss: 1.9464 - acc: 0.1202 - val_loss: 1.9460 - val_acc: 0.1437\n",
      "Epoch 2/10\n",
      "70/70 [==============================] - 3019s 43s/step - loss: 1.9466 - acc: 0.1412 - val_loss: 1.9459 - val_acc: 0.1437\n",
      "Epoch 3/10\n",
      "54/70 [======================>.......] - ETA: 10:49 - loss: 1.9464 - acc: 0.1245"
     ]
    },
    {
     "ename": "StopIteration",
     "evalue": "[Errno 23] Too many open files in system: '/Users/ohta/Documents/OneDrive - 国立研究開発法人 国立循環器病研究センター/TInull_182case_m3top3/train/-1/0083_20171012_1598764_00000009.png'",
     "output_type": "error",
     "traceback": [
      "\u001b[0;31m---------------------------------------------------------------------------\u001b[0m",
      "\u001b[0;31mOSError\u001b[0m                                   Traceback (most recent call last)",
      "\u001b[0;32m/anaconda/envs/tensorflow/lib/python3.6/site-packages/keras/utils/data_utils.py\u001b[0m in \u001b[0;36mget\u001b[0;34m(self)\u001b[0m\n\u001b[1;32m    577\u001b[0m             \u001b[0;32mwhile\u001b[0m \u001b[0mself\u001b[0m\u001b[0;34m.\u001b[0m\u001b[0mis_running\u001b[0m\u001b[0;34m(\u001b[0m\u001b[0;34m)\u001b[0m\u001b[0;34m:\u001b[0m\u001b[0;34m\u001b[0m\u001b[0m\n\u001b[0;32m--> 578\u001b[0;31m                 \u001b[0minputs\u001b[0m \u001b[0;34m=\u001b[0m \u001b[0mself\u001b[0m\u001b[0;34m.\u001b[0m\u001b[0mqueue\u001b[0m\u001b[0;34m.\u001b[0m\u001b[0mget\u001b[0m\u001b[0;34m(\u001b[0m\u001b[0mblock\u001b[0m\u001b[0;34m=\u001b[0m\u001b[0;32mTrue\u001b[0m\u001b[0;34m)\u001b[0m\u001b[0;34m.\u001b[0m\u001b[0mget\u001b[0m\u001b[0;34m(\u001b[0m\u001b[0;34m)\u001b[0m\u001b[0;34m\u001b[0m\u001b[0m\n\u001b[0m\u001b[1;32m    579\u001b[0m                 \u001b[0mself\u001b[0m\u001b[0;34m.\u001b[0m\u001b[0mqueue\u001b[0m\u001b[0;34m.\u001b[0m\u001b[0mtask_done\u001b[0m\u001b[0;34m(\u001b[0m\u001b[0;34m)\u001b[0m\u001b[0;34m\u001b[0m\u001b[0m\n",
      "\u001b[0;32m/anaconda/envs/tensorflow/lib/python3.6/multiprocessing/pool.py\u001b[0m in \u001b[0;36mget\u001b[0;34m(self, timeout)\u001b[0m\n\u001b[1;32m    643\u001b[0m         \u001b[0;32melse\u001b[0m\u001b[0;34m:\u001b[0m\u001b[0;34m\u001b[0m\u001b[0m\n\u001b[0;32m--> 644\u001b[0;31m             \u001b[0;32mraise\u001b[0m \u001b[0mself\u001b[0m\u001b[0;34m.\u001b[0m\u001b[0m_value\u001b[0m\u001b[0;34m\u001b[0m\u001b[0m\n\u001b[0m\u001b[1;32m    645\u001b[0m \u001b[0;34m\u001b[0m\u001b[0m\n",
      "\u001b[0;32m/anaconda/envs/tensorflow/lib/python3.6/multiprocessing/pool.py\u001b[0m in \u001b[0;36mworker\u001b[0;34m(inqueue, outqueue, initializer, initargs, maxtasks, wrap_exception)\u001b[0m\n\u001b[1;32m    118\u001b[0m         \u001b[0;32mtry\u001b[0m\u001b[0;34m:\u001b[0m\u001b[0;34m\u001b[0m\u001b[0m\n\u001b[0;32m--> 119\u001b[0;31m             \u001b[0mresult\u001b[0m \u001b[0;34m=\u001b[0m \u001b[0;34m(\u001b[0m\u001b[0;32mTrue\u001b[0m\u001b[0;34m,\u001b[0m \u001b[0mfunc\u001b[0m\u001b[0;34m(\u001b[0m\u001b[0;34m*\u001b[0m\u001b[0margs\u001b[0m\u001b[0;34m,\u001b[0m \u001b[0;34m**\u001b[0m\u001b[0mkwds\u001b[0m\u001b[0;34m)\u001b[0m\u001b[0;34m)\u001b[0m\u001b[0;34m\u001b[0m\u001b[0m\n\u001b[0m\u001b[1;32m    120\u001b[0m         \u001b[0;32mexcept\u001b[0m \u001b[0mException\u001b[0m \u001b[0;32mas\u001b[0m \u001b[0me\u001b[0m\u001b[0;34m:\u001b[0m\u001b[0;34m\u001b[0m\u001b[0m\n",
      "\u001b[0;32m/anaconda/envs/tensorflow/lib/python3.6/site-packages/keras/utils/data_utils.py\u001b[0m in \u001b[0;36mget_index\u001b[0;34m(uid, i)\u001b[0m\n\u001b[1;32m    400\u001b[0m     \"\"\"\n\u001b[0;32m--> 401\u001b[0;31m     \u001b[0;32mreturn\u001b[0m \u001b[0m_SHARED_SEQUENCES\u001b[0m\u001b[0;34m[\u001b[0m\u001b[0muid\u001b[0m\u001b[0;34m]\u001b[0m\u001b[0;34m[\u001b[0m\u001b[0mi\u001b[0m\u001b[0;34m]\u001b[0m\u001b[0;34m\u001b[0m\u001b[0m\n\u001b[0m\u001b[1;32m    402\u001b[0m \u001b[0;34m\u001b[0m\u001b[0m\n",
      "\u001b[0;32m/anaconda/envs/tensorflow/lib/python3.6/site-packages/keras/preprocessing/image.py\u001b[0m in \u001b[0;36m__getitem__\u001b[0;34m(self, idx)\u001b[0m\n\u001b[1;32m   1033\u001b[0m                                        self.batch_size * (idx + 1)]\n\u001b[0;32m-> 1034\u001b[0;31m         \u001b[0;32mreturn\u001b[0m \u001b[0mself\u001b[0m\u001b[0;34m.\u001b[0m\u001b[0m_get_batches_of_transformed_samples\u001b[0m\u001b[0;34m(\u001b[0m\u001b[0mindex_array\u001b[0m\u001b[0;34m)\u001b[0m\u001b[0;34m\u001b[0m\u001b[0m\n\u001b[0m\u001b[1;32m   1035\u001b[0m \u001b[0;34m\u001b[0m\u001b[0m\n",
      "\u001b[0;32m/anaconda/envs/tensorflow/lib/python3.6/site-packages/keras/preprocessing/image.py\u001b[0m in \u001b[0;36m_get_batches_of_transformed_samples\u001b[0;34m(self, index_array)\u001b[0m\n\u001b[1;32m   1437\u001b[0m                            \u001b[0mtarget_size\u001b[0m\u001b[0;34m=\u001b[0m\u001b[0mself\u001b[0m\u001b[0;34m.\u001b[0m\u001b[0mtarget_size\u001b[0m\u001b[0;34m,\u001b[0m\u001b[0;34m\u001b[0m\u001b[0m\n\u001b[0;32m-> 1438\u001b[0;31m                            interpolation=self.interpolation)\n\u001b[0m\u001b[1;32m   1439\u001b[0m             \u001b[0mx\u001b[0m \u001b[0;34m=\u001b[0m \u001b[0mimg_to_array\u001b[0m\u001b[0;34m(\u001b[0m\u001b[0mimg\u001b[0m\u001b[0;34m,\u001b[0m \u001b[0mdata_format\u001b[0m\u001b[0;34m=\u001b[0m\u001b[0mself\u001b[0m\u001b[0;34m.\u001b[0m\u001b[0mdata_format\u001b[0m\u001b[0;34m)\u001b[0m\u001b[0;34m\u001b[0m\u001b[0m\n",
      "\u001b[0;32m/anaconda/envs/tensorflow/lib/python3.6/site-packages/keras/preprocessing/image.py\u001b[0m in \u001b[0;36mload_img\u001b[0;34m(path, grayscale, target_size, interpolation)\u001b[0m\n\u001b[1;32m    386\u001b[0m                           'The use of `array_to_img` requires PIL.')\n\u001b[0;32m--> 387\u001b[0;31m     \u001b[0mimg\u001b[0m \u001b[0;34m=\u001b[0m \u001b[0mpil_image\u001b[0m\u001b[0;34m.\u001b[0m\u001b[0mopen\u001b[0m\u001b[0;34m(\u001b[0m\u001b[0mpath\u001b[0m\u001b[0;34m)\u001b[0m\u001b[0;34m\u001b[0m\u001b[0m\n\u001b[0m\u001b[1;32m    388\u001b[0m     \u001b[0;32mif\u001b[0m \u001b[0mgrayscale\u001b[0m\u001b[0;34m:\u001b[0m\u001b[0;34m\u001b[0m\u001b[0m\n",
      "\u001b[0;32m/anaconda/envs/tensorflow/lib/python3.6/site-packages/PIL/Image.py\u001b[0m in \u001b[0;36mopen\u001b[0;34m(fp, mode)\u001b[0m\n\u001b[1;32m   2476\u001b[0m     \u001b[0;32mif\u001b[0m \u001b[0mfilename\u001b[0m\u001b[0;34m:\u001b[0m\u001b[0;34m\u001b[0m\u001b[0m\n\u001b[0;32m-> 2477\u001b[0;31m         \u001b[0mfp\u001b[0m \u001b[0;34m=\u001b[0m \u001b[0mbuiltins\u001b[0m\u001b[0;34m.\u001b[0m\u001b[0mopen\u001b[0m\u001b[0;34m(\u001b[0m\u001b[0mfilename\u001b[0m\u001b[0;34m,\u001b[0m \u001b[0;34m\"rb\"\u001b[0m\u001b[0;34m)\u001b[0m\u001b[0;34m\u001b[0m\u001b[0m\n\u001b[0m\u001b[1;32m   2478\u001b[0m         \u001b[0mexclusive_fp\u001b[0m \u001b[0;34m=\u001b[0m \u001b[0;32mTrue\u001b[0m\u001b[0;34m\u001b[0m\u001b[0m\n",
      "\u001b[0;31mOSError\u001b[0m: [Errno 23] Too many open files in system: '/Users/ohta/Documents/OneDrive - 国立研究開発法人 国立循環器病研究センター/TInull_182case_m3top3/train/-1/0083_20171012_1598764_00000009.png'",
      "\nThe above exception was the direct cause of the following exception:\n",
      "\u001b[0;31mStopIteration\u001b[0m                             Traceback (most recent call last)",
      "\u001b[0;32m<ipython-input-13-810309bbed56>\u001b[0m in \u001b[0;36m<module>\u001b[0;34m()\u001b[0m\n\u001b[1;32m      7\u001b[0m     \u001b[0mvalidation_data\u001b[0m\u001b[0;34m=\u001b[0m\u001b[0mimg_itr_validation\u001b[0m\u001b[0;34m,\u001b[0m\u001b[0;34m\u001b[0m\u001b[0m\n\u001b[1;32m      8\u001b[0m     \u001b[0mvalidation_steps\u001b[0m\u001b[0;34m=\u001b[0m\u001b[0mvalidation_steps\u001b[0m\u001b[0;34m,\u001b[0m\u001b[0;34m\u001b[0m\u001b[0m\n\u001b[0;32m----> 9\u001b[0;31m     \u001b[0mcallbacks\u001b[0m \u001b[0;34m=\u001b[0m \u001b[0;34m[\u001b[0m\u001b[0mcp\u001b[0m\u001b[0;34m,\u001b[0m \u001b[0mcsv\u001b[0m\u001b[0;34m]\u001b[0m\u001b[0;34m\u001b[0m\u001b[0m\n\u001b[0m\u001b[1;32m     10\u001b[0m \u001b[0;34m\u001b[0m\u001b[0m\n\u001b[1;32m     11\u001b[0m )\n",
      "\u001b[0;32m/anaconda/envs/tensorflow/lib/python3.6/site-packages/keras/legacy/interfaces.py\u001b[0m in \u001b[0;36mwrapper\u001b[0;34m(*args, **kwargs)\u001b[0m\n\u001b[1;32m     89\u001b[0m                 warnings.warn('Update your `' + object_name +\n\u001b[1;32m     90\u001b[0m                               '` call to the Keras 2 API: ' + signature, stacklevel=2)\n\u001b[0;32m---> 91\u001b[0;31m             \u001b[0;32mreturn\u001b[0m \u001b[0mfunc\u001b[0m\u001b[0;34m(\u001b[0m\u001b[0;34m*\u001b[0m\u001b[0margs\u001b[0m\u001b[0;34m,\u001b[0m \u001b[0;34m**\u001b[0m\u001b[0mkwargs\u001b[0m\u001b[0;34m)\u001b[0m\u001b[0;34m\u001b[0m\u001b[0m\n\u001b[0m\u001b[1;32m     92\u001b[0m         \u001b[0mwrapper\u001b[0m\u001b[0;34m.\u001b[0m\u001b[0m_original_function\u001b[0m \u001b[0;34m=\u001b[0m \u001b[0mfunc\u001b[0m\u001b[0;34m\u001b[0m\u001b[0m\n\u001b[1;32m     93\u001b[0m         \u001b[0;32mreturn\u001b[0m \u001b[0mwrapper\u001b[0m\u001b[0;34m\u001b[0m\u001b[0m\n",
      "\u001b[0;32m/anaconda/envs/tensorflow/lib/python3.6/site-packages/keras/models.py\u001b[0m in \u001b[0;36mfit_generator\u001b[0;34m(self, generator, steps_per_epoch, epochs, verbose, callbacks, validation_data, validation_steps, class_weight, max_queue_size, workers, use_multiprocessing, shuffle, initial_epoch)\u001b[0m\n\u001b[1;32m   1313\u001b[0m                                         \u001b[0muse_multiprocessing\u001b[0m\u001b[0;34m=\u001b[0m\u001b[0muse_multiprocessing\u001b[0m\u001b[0;34m,\u001b[0m\u001b[0;34m\u001b[0m\u001b[0m\n\u001b[1;32m   1314\u001b[0m                                         \u001b[0mshuffle\u001b[0m\u001b[0;34m=\u001b[0m\u001b[0mshuffle\u001b[0m\u001b[0;34m,\u001b[0m\u001b[0;34m\u001b[0m\u001b[0m\n\u001b[0;32m-> 1315\u001b[0;31m                                         initial_epoch=initial_epoch)\n\u001b[0m\u001b[1;32m   1316\u001b[0m \u001b[0;34m\u001b[0m\u001b[0m\n\u001b[1;32m   1317\u001b[0m     \u001b[0;34m@\u001b[0m\u001b[0minterfaces\u001b[0m\u001b[0;34m.\u001b[0m\u001b[0mlegacy_generator_methods_support\u001b[0m\u001b[0;34m\u001b[0m\u001b[0m\n",
      "\u001b[0;32m/anaconda/envs/tensorflow/lib/python3.6/site-packages/keras/legacy/interfaces.py\u001b[0m in \u001b[0;36mwrapper\u001b[0;34m(*args, **kwargs)\u001b[0m\n\u001b[1;32m     89\u001b[0m                 warnings.warn('Update your `' + object_name +\n\u001b[1;32m     90\u001b[0m                               '` call to the Keras 2 API: ' + signature, stacklevel=2)\n\u001b[0;32m---> 91\u001b[0;31m             \u001b[0;32mreturn\u001b[0m \u001b[0mfunc\u001b[0m\u001b[0;34m(\u001b[0m\u001b[0;34m*\u001b[0m\u001b[0margs\u001b[0m\u001b[0;34m,\u001b[0m \u001b[0;34m**\u001b[0m\u001b[0mkwargs\u001b[0m\u001b[0;34m)\u001b[0m\u001b[0;34m\u001b[0m\u001b[0m\n\u001b[0m\u001b[1;32m     92\u001b[0m         \u001b[0mwrapper\u001b[0m\u001b[0;34m.\u001b[0m\u001b[0m_original_function\u001b[0m \u001b[0;34m=\u001b[0m \u001b[0mfunc\u001b[0m\u001b[0;34m\u001b[0m\u001b[0m\n\u001b[1;32m     93\u001b[0m         \u001b[0;32mreturn\u001b[0m \u001b[0mwrapper\u001b[0m\u001b[0;34m\u001b[0m\u001b[0m\n",
      "\u001b[0;32m/anaconda/envs/tensorflow/lib/python3.6/site-packages/keras/engine/training.py\u001b[0m in \u001b[0;36mfit_generator\u001b[0;34m(self, generator, steps_per_epoch, epochs, verbose, callbacks, validation_data, validation_steps, class_weight, max_queue_size, workers, use_multiprocessing, shuffle, initial_epoch)\u001b[0m\n\u001b[1;32m   2192\u001b[0m                 \u001b[0mbatch_index\u001b[0m \u001b[0;34m=\u001b[0m \u001b[0;36m0\u001b[0m\u001b[0;34m\u001b[0m\u001b[0m\n\u001b[1;32m   2193\u001b[0m                 \u001b[0;32mwhile\u001b[0m \u001b[0msteps_done\u001b[0m \u001b[0;34m<\u001b[0m \u001b[0msteps_per_epoch\u001b[0m\u001b[0;34m:\u001b[0m\u001b[0;34m\u001b[0m\u001b[0m\n\u001b[0;32m-> 2194\u001b[0;31m                     \u001b[0mgenerator_output\u001b[0m \u001b[0;34m=\u001b[0m \u001b[0mnext\u001b[0m\u001b[0;34m(\u001b[0m\u001b[0moutput_generator\u001b[0m\u001b[0;34m)\u001b[0m\u001b[0;34m\u001b[0m\u001b[0m\n\u001b[0m\u001b[1;32m   2195\u001b[0m \u001b[0;34m\u001b[0m\u001b[0m\n\u001b[1;32m   2196\u001b[0m                     \u001b[0;32mif\u001b[0m \u001b[0;32mnot\u001b[0m \u001b[0mhasattr\u001b[0m\u001b[0;34m(\u001b[0m\u001b[0mgenerator_output\u001b[0m\u001b[0;34m,\u001b[0m \u001b[0;34m'__len__'\u001b[0m\u001b[0;34m)\u001b[0m\u001b[0;34m:\u001b[0m\u001b[0;34m\u001b[0m\u001b[0m\n",
      "\u001b[0;32m/anaconda/envs/tensorflow/lib/python3.6/site-packages/keras/utils/data_utils.py\u001b[0m in \u001b[0;36mget\u001b[0;34m(self)\u001b[0m\n\u001b[1;32m    582\u001b[0m         \u001b[0;32mexcept\u001b[0m \u001b[0mException\u001b[0m \u001b[0;32mas\u001b[0m \u001b[0me\u001b[0m\u001b[0;34m:\u001b[0m\u001b[0;34m\u001b[0m\u001b[0m\n\u001b[1;32m    583\u001b[0m             \u001b[0mself\u001b[0m\u001b[0;34m.\u001b[0m\u001b[0mstop\u001b[0m\u001b[0;34m(\u001b[0m\u001b[0;34m)\u001b[0m\u001b[0;34m\u001b[0m\u001b[0m\n\u001b[0;32m--> 584\u001b[0;31m             \u001b[0msix\u001b[0m\u001b[0;34m.\u001b[0m\u001b[0mraise_from\u001b[0m\u001b[0;34m(\u001b[0m\u001b[0mStopIteration\u001b[0m\u001b[0;34m(\u001b[0m\u001b[0me\u001b[0m\u001b[0;34m)\u001b[0m\u001b[0;34m,\u001b[0m \u001b[0me\u001b[0m\u001b[0;34m)\u001b[0m\u001b[0;34m\u001b[0m\u001b[0m\n\u001b[0m\u001b[1;32m    585\u001b[0m \u001b[0;34m\u001b[0m\u001b[0m\n\u001b[1;32m    586\u001b[0m     \u001b[0;32mdef\u001b[0m \u001b[0m_send_sequence\u001b[0m\u001b[0;34m(\u001b[0m\u001b[0mself\u001b[0m\u001b[0;34m)\u001b[0m\u001b[0;34m:\u001b[0m\u001b[0;34m\u001b[0m\u001b[0m\n",
      "\u001b[0;32m/anaconda/envs/tensorflow/lib/python3.6/site-packages/six.py\u001b[0m in \u001b[0;36mraise_from\u001b[0;34m(value, from_value)\u001b[0m\n",
      "\u001b[0;31mStopIteration\u001b[0m: [Errno 23] Too many open files in system: '/Users/ohta/Documents/OneDrive - 国立研究開発法人 国立循環器病研究センター/TInull_182case_m3top3/train/-1/0083_20171012_1598764_00000009.png'"
     ]
    }
   ],
   "source": [
    "n_epoch = 10\n",
    "\n",
    "history = model.fit_generator(\n",
    "    img_itr_train,\n",
    "    steps_per_epoch=steps_per_epoch,\n",
    "    epochs=n_epoch,\n",
    "    validation_data=img_itr_validation,\n",
    "    validation_steps=validation_steps,\n",
    "    callbacks = [cp, csv]\n",
    "    \n",
    ")\n",
    "\n",
    "model.save(os.path.join(model_dir,'my_model.h5'))"
   ]
  },
  {
   "cell_type": "code",
   "execution_count": null,
   "metadata": {
    "collapsed": true
   },
   "outputs": [],
   "source": [
    "from utils import load_random_imgs\n",
    "from PIL import Image\n",
    "import glob\n",
    "\n",
    "test_data_dir= ''\n",
    "folders=sorted(glob.glob(test_data_dir+'/**', recursive=False))\n",
    "files=sorted(glob.glob(folder+'/**.png', recursive=False))\n",
    "\n",
    "X_test, true_labels = load_random_imgs(\n",
    "    test_data_dir,\n",
    "    seed=1\n",
    ")\n",
    "x_test=preproc= preprocess_input(x_test.copy())/255.\n",
    "probs= model.predict(X_test_preproc)\n",
    "\n",
    "image_size =224\n",
    "model = load_model(args.model_file)\n",
    "\n",
    "image = Image.open(args.src_file)\n",
    "image = image.convert(\"RGB\").resize((image_size, image_size), Image.ANTIALIAS)\n",
    "image = np.asarray(image, dtype=np.float32).reshape(image_size, image_size, 3)\n",
    "image /= 255.0\n",
    "\n",
    "result = model.predict(np.array([image]), 1)[0]\n",
    "for i, score in enumerate(result):\n",
    "    print(\"Category-%d: %.2f\"%(i, score))\n",
    "    \n",
    "    \n",
    "# 学習済みのVGG16をロード\n",
    "# 構造とともに学習済みの重みも読み込まれる\n",
    "model = VGG16(weights='imagenet')\n",
    "# model.summary()\n",
    "\n",
    "stack=[]\n",
    "predict_result=[]\n",
    "\n",
    "for file in files:\n",
    "# 引数で指定した画像ファイルを読み込む\n",
    "# サイズはVGG16のデフォルトである224x224にリサイズされる\n",
    "    img = image.load_img(file, target_size=(224, 224))\n",
    "\n",
    "# 読み込んだPIL形式の画像をarrayに変換\n",
    "    x = image.img_to_array(img)\n",
    "    x=preprocess_input(x)\n",
    "    # 3次元テンソル（rows, cols, channels) を\n",
    "    # 4次元テンソル (samples, rows, cols, channels) に変換\n",
    "    # 入力画像は1枚なのでsamples=1でよい\n",
    "    x = np.expand_dims(x, axis=0)\n",
    "\n",
    "    \n",
    "    # Top-5のクラスを予測する\n",
    "    # VGG16の1000クラスはdecode_predictions()で文字列に変換される\n",
    "    preds = model.predict(preprocess_input(x))\n",
    "    results = decode_predictions(preds, top=5)[0]\n",
    "    for result in results:\n",
    "        print(result)    \n",
    "        \n",
    "    "
   ]
  },
  {
   "cell_type": "code",
   "execution_count": 12,
   "metadata": {},
   "outputs": [
    {
     "name": "stdout",
     "output_type": "stream",
     "text": [
      "folders ['/Users/ohta/OneDrive - 国立研究開発法人 国立循環器病研究センター/TInull_182case_m3top3/TIdata20172018/TIscout_test_retina/0a3', '/Users/ohta/OneDrive - 国立研究開発法人 国立循環器病研究センター/TInull_182case_m3top3/TIdata20172018/TIscout_test_retina/0b2', '/Users/ohta/OneDrive - 国立研究開発法人 国立循環器病研究センター/TInull_182case_m3top3/TIdata20172018/TIscout_test_retina/0c1', '/Users/ohta/OneDrive - 国立研究開発法人 国立循環器病研究センター/TInull_182case_m3top3/TIdata20172018/TIscout_test_retina/a0', '/Users/ohta/OneDrive - 国立研究開発法人 国立循環器病研究センター/TInull_182case_m3top3/TIdata20172018/TIscout_test_retina/a1', '/Users/ohta/OneDrive - 国立研究開発法人 国立循環器病研究センター/TInull_182case_m3top3/TIdata20172018/TIscout_test_retina/a2', '/Users/ohta/OneDrive - 国立研究開発法人 国立循環器病研究センター/TInull_182case_m3top3/TIdata20172018/TIscout_test_retina/a3']\n",
      "category number 0 /Users/ohta/OneDrive - 国立研究開発法人 国立循環器病研究センター/TInull_182case_m3top3/TIdata20172018/TIscout_test_retina/0a3\n",
      "detected files ['/Users/ohta/OneDrive - 国立研究開発法人 国立循環器病研究センター/TInull_182case_m3top3/TIdata20172018/TIscout_test_retina/0a3/IMG_5644.JPG', '/Users/ohta/OneDrive - 国立研究開発法人 国立循環器病研究センター/TInull_182case_m3top3/TIdata20172018/TIscout_test_retina/0a3/IMG_5645.JPG', '/Users/ohta/OneDrive - 国立研究開発法人 国立循環器病研究センター/TInull_182case_m3top3/TIdata20172018/TIscout_test_retina/0a3/IMG_5646.JPG', '/Users/ohta/OneDrive - 国立研究開発法人 国立循環器病研究センター/TInull_182case_m3top3/TIdata20172018/TIscout_test_retina/0a3/IMG_5647.JPG', '/Users/ohta/OneDrive - 国立研究開発法人 国立循環器病研究センター/TInull_182case_m3top3/TIdata20172018/TIscout_test_retina/0a3/IMG_5648.JPG', '/Users/ohta/OneDrive - 国立研究開発法人 国立循環器病研究センター/TInull_182case_m3top3/TIdata20172018/TIscout_test_retina/0a3/IMG_5649.JPG', '/Users/ohta/OneDrive - 国立研究開発法人 国立循環器病研究センター/TInull_182case_m3top3/TIdata20172018/TIscout_test_retina/0a3/IMG_5650.JPG', '/Users/ohta/OneDrive - 国立研究開発法人 国立循環器病研究センター/TInull_182case_m3top3/TIdata20172018/TIscout_test_retina/0a3/IMG_5651.JPG', '/Users/ohta/OneDrive - 国立研究開発法人 国立循環器病研究センター/TInull_182case_m3top3/TIdata20172018/TIscout_test_retina/0a3/IMG_5652.JPG', '/Users/ohta/OneDrive - 国立研究開発法人 国立循環器病研究センター/TInull_182case_m3top3/TIdata20172018/TIscout_test_retina/0a3/IMG_5653.JPG', '/Users/ohta/OneDrive - 国立研究開発法人 国立循環器病研究センター/TInull_182case_m3top3/TIdata20172018/TIscout_test_retina/0a3/IMG_5654.JPG', '/Users/ohta/OneDrive - 国立研究開発法人 国立循環器病研究センター/TInull_182case_m3top3/TIdata20172018/TIscout_test_retina/0a3/IMG_5655.JPG', '/Users/ohta/OneDrive - 国立研究開発法人 国立循環器病研究センター/TInull_182case_m3top3/TIdata20172018/TIscout_test_retina/0a3/IMG_5656.JPG', '/Users/ohta/OneDrive - 国立研究開発法人 国立循環器病研究センター/TInull_182case_m3top3/TIdata20172018/TIscout_test_retina/0a3/IMG_5657.JPG', '/Users/ohta/OneDrive - 国立研究開発法人 国立循環器病研究センター/TInull_182case_m3top3/TIdata20172018/TIscout_test_retina/0a3/IMG_5658.JPG', '/Users/ohta/OneDrive - 国立研究開発法人 国立循環器病研究センター/TInull_182case_m3top3/TIdata20172018/TIscout_test_retina/0a3/IMG_5659.JPG', '/Users/ohta/OneDrive - 国立研究開発法人 国立循環器病研究センター/TInull_182case_m3top3/TIdata20172018/TIscout_test_retina/0a3/IMG_5660.JPG', '/Users/ohta/OneDrive - 国立研究開発法人 国立循環器病研究センター/TInull_182case_m3top3/TIdata20172018/TIscout_test_retina/0a3/IMG_5661.JPG', '/Users/ohta/OneDrive - 国立研究開発法人 国立循環器病研究センター/TInull_182case_m3top3/TIdata20172018/TIscout_test_retina/0a3/IMG_5662.JPG', '/Users/ohta/OneDrive - 国立研究開発法人 国立循環器病研究センター/TInull_182case_m3top3/TIdata20172018/TIscout_test_retina/0a3/IMG_5663.JPG', '/Users/ohta/OneDrive - 国立研究開発法人 国立循環器病研究センター/TInull_182case_m3top3/TIdata20172018/TIscout_test_retina/0a3/IMG_5664.JPG', '/Users/ohta/OneDrive - 国立研究開発法人 国立循環器病研究センター/TInull_182case_m3top3/TIdata20172018/TIscout_test_retina/0a3/IMG_5665.JPG', '/Users/ohta/OneDrive - 国立研究開発法人 国立循環器病研究センター/TInull_182case_m3top3/TIdata20172018/TIscout_test_retina/0a3/IMG_5666.JPG', '/Users/ohta/OneDrive - 国立研究開発法人 国立循環器病研究センター/TInull_182case_m3top3/TIdata20172018/TIscout_test_retina/0a3/IMG_5667.JPG', '/Users/ohta/OneDrive - 国立研究開発法人 国立循環器病研究センター/TInull_182case_m3top3/TIdata20172018/TIscout_test_retina/0a3/IMG_5668.JPG', '/Users/ohta/OneDrive - 国立研究開発法人 国立循環器病研究センター/TInull_182case_m3top3/TIdata20172018/TIscout_test_retina/0a3/IMG_5669.JPG', '/Users/ohta/OneDrive - 国立研究開発法人 国立循環器病研究センター/TInull_182case_m3top3/TIdata20172018/TIscout_test_retina/0a3/IMG_5670.JPG', '/Users/ohta/OneDrive - 国立研究開発法人 国立循環器病研究センター/TInull_182case_m3top3/TIdata20172018/TIscout_test_retina/0a3/IMG_5671.JPG', '/Users/ohta/OneDrive - 国立研究開発法人 国立循環器病研究センター/TInull_182case_m3top3/TIdata20172018/TIscout_test_retina/0a3/IMG_5672.JPG', '/Users/ohta/OneDrive - 国立研究開発法人 国立循環器病研究センター/TInull_182case_m3top3/TIdata20172018/TIscout_test_retina/0a3/IMG_5673.JPG', '/Users/ohta/OneDrive - 国立研究開発法人 国立循環器病研究センター/TInull_182case_m3top3/TIdata20172018/TIscout_test_retina/0a3/IMG_5674.JPG', '/Users/ohta/OneDrive - 国立研究開発法人 国立循環器病研究センター/TInull_182case_m3top3/TIdata20172018/TIscout_test_retina/0a3/IMG_5675.JPG', '/Users/ohta/OneDrive - 国立研究開発法人 国立循環器病研究センター/TInull_182case_m3top3/TIdata20172018/TIscout_test_retina/0a3/IMG_5676.JPG', '/Users/ohta/OneDrive - 国立研究開発法人 国立循環器病研究センター/TInull_182case_m3top3/TIdata20172018/TIscout_test_retina/0a3/IMG_5677.JPG', '/Users/ohta/OneDrive - 国立研究開発法人 国立循環器病研究センター/TInull_182case_m3top3/TIdata20172018/TIscout_test_retina/0a3/IMG_5678.JPG', '/Users/ohta/OneDrive - 国立研究開発法人 国立循環器病研究センター/TInull_182case_m3top3/TIdata20172018/TIscout_test_retina/0a3/IMG_5679.JPG', '/Users/ohta/OneDrive - 国立研究開発法人 国立循環器病研究センター/TInull_182case_m3top3/TIdata20172018/TIscout_test_retina/0a3/IMG_5680.JPG', '/Users/ohta/OneDrive - 国立研究開発法人 国立循環器病研究センター/TInull_182case_m3top3/TIdata20172018/TIscout_test_retina/0a3/IMG_5681.JPG', '/Users/ohta/OneDrive - 国立研究開発法人 国立循環器病研究センター/TInull_182case_m3top3/TIdata20172018/TIscout_test_retina/0a3/IMG_5682.JPG', '/Users/ohta/OneDrive - 国立研究開発法人 国立循環器病研究センター/TInull_182case_m3top3/TIdata20172018/TIscout_test_retina/0a3/IMG_5683.JPG', '/Users/ohta/OneDrive - 国立研究開発法人 国立循環器病研究センター/TInull_182case_m3top3/TIdata20172018/TIscout_test_retina/0a3/IMG_5684.JPG', '/Users/ohta/OneDrive - 国立研究開発法人 国立循環器病研究センター/TInull_182case_m3top3/TIdata20172018/TIscout_test_retina/0a3/IMG_5685.JPG', '/Users/ohta/OneDrive - 国立研究開発法人 国立循環器病研究センター/TInull_182case_m3top3/TIdata20172018/TIscout_test_retina/0a3/IMG_5686.JPG', '/Users/ohta/OneDrive - 国立研究開発法人 国立循環器病研究センター/TInull_182case_m3top3/TIdata20172018/TIscout_test_retina/0a3/IMG_5687.JPG', '/Users/ohta/OneDrive - 国立研究開発法人 国立循環器病研究センター/TInull_182case_m3top3/TIdata20172018/TIscout_test_retina/0a3/IMG_5688.JPG', '/Users/ohta/OneDrive - 国立研究開発法人 国立循環器病研究センター/TInull_182case_m3top3/TIdata20172018/TIscout_test_retina/0a3/IMG_5689.JPG']\n",
      "category number 1 /Users/ohta/OneDrive - 国立研究開発法人 国立循環器病研究センター/TInull_182case_m3top3/TIdata20172018/TIscout_test_retina/0b2\n",
      "detected files ['/Users/ohta/OneDrive - 国立研究開発法人 国立循環器病研究センター/TInull_182case_m3top3/TIdata20172018/TIscout_test_retina/0b2/IMG_5692.JPG', '/Users/ohta/OneDrive - 国立研究開発法人 国立循環器病研究センター/TInull_182case_m3top3/TIdata20172018/TIscout_test_retina/0b2/IMG_5693.JPG', '/Users/ohta/OneDrive - 国立研究開発法人 国立循環器病研究センター/TInull_182case_m3top3/TIdata20172018/TIscout_test_retina/0b2/IMG_5694.JPG', '/Users/ohta/OneDrive - 国立研究開発法人 国立循環器病研究センター/TInull_182case_m3top3/TIdata20172018/TIscout_test_retina/0b2/IMG_5695.JPG', '/Users/ohta/OneDrive - 国立研究開発法人 国立循環器病研究センター/TInull_182case_m3top3/TIdata20172018/TIscout_test_retina/0b2/IMG_5696.JPG', '/Users/ohta/OneDrive - 国立研究開発法人 国立循環器病研究センター/TInull_182case_m3top3/TIdata20172018/TIscout_test_retina/0b2/IMG_5697.JPG', '/Users/ohta/OneDrive - 国立研究開発法人 国立循環器病研究センター/TInull_182case_m3top3/TIdata20172018/TIscout_test_retina/0b2/IMG_5698.JPG', '/Users/ohta/OneDrive - 国立研究開発法人 国立循環器病研究センター/TInull_182case_m3top3/TIdata20172018/TIscout_test_retina/0b2/IMG_5699.JPG', '/Users/ohta/OneDrive - 国立研究開発法人 国立循環器病研究センター/TInull_182case_m3top3/TIdata20172018/TIscout_test_retina/0b2/IMG_5700.JPG', '/Users/ohta/OneDrive - 国立研究開発法人 国立循環器病研究センター/TInull_182case_m3top3/TIdata20172018/TIscout_test_retina/0b2/IMG_5701.JPG', '/Users/ohta/OneDrive - 国立研究開発法人 国立循環器病研究センター/TInull_182case_m3top3/TIdata20172018/TIscout_test_retina/0b2/IMG_5702.JPG', '/Users/ohta/OneDrive - 国立研究開発法人 国立循環器病研究センター/TInull_182case_m3top3/TIdata20172018/TIscout_test_retina/0b2/IMG_5703.JPG', '/Users/ohta/OneDrive - 国立研究開発法人 国立循環器病研究センター/TInull_182case_m3top3/TIdata20172018/TIscout_test_retina/0b2/IMG_5704.JPG', '/Users/ohta/OneDrive - 国立研究開発法人 国立循環器病研究センター/TInull_182case_m3top3/TIdata20172018/TIscout_test_retina/0b2/IMG_5705.JPG', '/Users/ohta/OneDrive - 国立研究開発法人 国立循環器病研究センター/TInull_182case_m3top3/TIdata20172018/TIscout_test_retina/0b2/IMG_5706.JPG', '/Users/ohta/OneDrive - 国立研究開発法人 国立循環器病研究センター/TInull_182case_m3top3/TIdata20172018/TIscout_test_retina/0b2/IMG_5707.JPG', '/Users/ohta/OneDrive - 国立研究開発法人 国立循環器病研究センター/TInull_182case_m3top3/TIdata20172018/TIscout_test_retina/0b2/IMG_5708.JPG', '/Users/ohta/OneDrive - 国立研究開発法人 国立循環器病研究センター/TInull_182case_m3top3/TIdata20172018/TIscout_test_retina/0b2/IMG_5709.JPG', '/Users/ohta/OneDrive - 国立研究開発法人 国立循環器病研究センター/TInull_182case_m3top3/TIdata20172018/TIscout_test_retina/0b2/IMG_5710.JPG', '/Users/ohta/OneDrive - 国立研究開発法人 国立循環器病研究センター/TInull_182case_m3top3/TIdata20172018/TIscout_test_retina/0b2/IMG_5711.JPG', '/Users/ohta/OneDrive - 国立研究開発法人 国立循環器病研究センター/TInull_182case_m3top3/TIdata20172018/TIscout_test_retina/0b2/IMG_5712.JPG', '/Users/ohta/OneDrive - 国立研究開発法人 国立循環器病研究センター/TInull_182case_m3top3/TIdata20172018/TIscout_test_retina/0b2/IMG_5713.JPG', '/Users/ohta/OneDrive - 国立研究開発法人 国立循環器病研究センター/TInull_182case_m3top3/TIdata20172018/TIscout_test_retina/0b2/IMG_5714.JPG', '/Users/ohta/OneDrive - 国立研究開発法人 国立循環器病研究センター/TInull_182case_m3top3/TIdata20172018/TIscout_test_retina/0b2/IMG_5715.JPG', '/Users/ohta/OneDrive - 国立研究開発法人 国立循環器病研究センター/TInull_182case_m3top3/TIdata20172018/TIscout_test_retina/0b2/IMG_5716.JPG', '/Users/ohta/OneDrive - 国立研究開発法人 国立循環器病研究センター/TInull_182case_m3top3/TIdata20172018/TIscout_test_retina/0b2/IMG_5717.JPG', '/Users/ohta/OneDrive - 国立研究開発法人 国立循環器病研究センター/TInull_182case_m3top3/TIdata20172018/TIscout_test_retina/0b2/IMG_5718.JPG', '/Users/ohta/OneDrive - 国立研究開発法人 国立循環器病研究センター/TInull_182case_m3top3/TIdata20172018/TIscout_test_retina/0b2/IMG_5719.JPG', '/Users/ohta/OneDrive - 国立研究開発法人 国立循環器病研究センター/TInull_182case_m3top3/TIdata20172018/TIscout_test_retina/0b2/IMG_5720.JPG', '/Users/ohta/OneDrive - 国立研究開発法人 国立循環器病研究センター/TInull_182case_m3top3/TIdata20172018/TIscout_test_retina/0b2/IMG_5721.JPG', '/Users/ohta/OneDrive - 国立研究開発法人 国立循環器病研究センター/TInull_182case_m3top3/TIdata20172018/TIscout_test_retina/0b2/IMG_5722.JPG', '/Users/ohta/OneDrive - 国立研究開発法人 国立循環器病研究センター/TInull_182case_m3top3/TIdata20172018/TIscout_test_retina/0b2/IMG_5723.JPG', '/Users/ohta/OneDrive - 国立研究開発法人 国立循環器病研究センター/TInull_182case_m3top3/TIdata20172018/TIscout_test_retina/0b2/IMG_5724.JPG', '/Users/ohta/OneDrive - 国立研究開発法人 国立循環器病研究センター/TInull_182case_m3top3/TIdata20172018/TIscout_test_retina/0b2/IMG_5725.JPG', '/Users/ohta/OneDrive - 国立研究開発法人 国立循環器病研究センター/TInull_182case_m3top3/TIdata20172018/TIscout_test_retina/0b2/IMG_5726.JPG', '/Users/ohta/OneDrive - 国立研究開発法人 国立循環器病研究センター/TInull_182case_m3top3/TIdata20172018/TIscout_test_retina/0b2/IMG_5727.JPG', '/Users/ohta/OneDrive - 国立研究開発法人 国立循環器病研究センター/TInull_182case_m3top3/TIdata20172018/TIscout_test_retina/0b2/IMG_5728.JPG', '/Users/ohta/OneDrive - 国立研究開発法人 国立循環器病研究センター/TInull_182case_m3top3/TIdata20172018/TIscout_test_retina/0b2/IMG_5729.JPG', '/Users/ohta/OneDrive - 国立研究開発法人 国立循環器病研究センター/TInull_182case_m3top3/TIdata20172018/TIscout_test_retina/0b2/IMG_5730.JPG', '/Users/ohta/OneDrive - 国立研究開発法人 国立循環器病研究センター/TInull_182case_m3top3/TIdata20172018/TIscout_test_retina/0b2/IMG_5731.JPG', '/Users/ohta/OneDrive - 国立研究開発法人 国立循環器病研究センター/TInull_182case_m3top3/TIdata20172018/TIscout_test_retina/0b2/IMG_5732.JPG', '/Users/ohta/OneDrive - 国立研究開発法人 国立循環器病研究センター/TInull_182case_m3top3/TIdata20172018/TIscout_test_retina/0b2/IMG_5733.JPG', '/Users/ohta/OneDrive - 国立研究開発法人 国立循環器病研究センター/TInull_182case_m3top3/TIdata20172018/TIscout_test_retina/0b2/IMG_5734.JPG', '/Users/ohta/OneDrive - 国立研究開発法人 国立循環器病研究センター/TInull_182case_m3top3/TIdata20172018/TIscout_test_retina/0b2/IMG_5735.JPG', '/Users/ohta/OneDrive - 国立研究開発法人 国立循環器病研究センター/TInull_182case_m3top3/TIdata20172018/TIscout_test_retina/0b2/IMG_5736.JPG', '/Users/ohta/OneDrive - 国立研究開発法人 国立循環器病研究センター/TInull_182case_m3top3/TIdata20172018/TIscout_test_retina/0b2/IMG_5737.JPG']\n",
      "category number 2 /Users/ohta/OneDrive - 国立研究開発法人 国立循環器病研究センター/TInull_182case_m3top3/TIdata20172018/TIscout_test_retina/0c1\n",
      "detected files ['/Users/ohta/OneDrive - 国立研究開発法人 国立循環器病研究センター/TInull_182case_m3top3/TIdata20172018/TIscout_test_retina/0c1/IMG_5739.JPG', '/Users/ohta/OneDrive - 国立研究開発法人 国立循環器病研究センター/TInull_182case_m3top3/TIdata20172018/TIscout_test_retina/0c1/IMG_5740.JPG', '/Users/ohta/OneDrive - 国立研究開発法人 国立循環器病研究センター/TInull_182case_m3top3/TIdata20172018/TIscout_test_retina/0c1/IMG_5741.JPG', '/Users/ohta/OneDrive - 国立研究開発法人 国立循環器病研究センター/TInull_182case_m3top3/TIdata20172018/TIscout_test_retina/0c1/IMG_5742.JPG', '/Users/ohta/OneDrive - 国立研究開発法人 国立循環器病研究センター/TInull_182case_m3top3/TIdata20172018/TIscout_test_retina/0c1/IMG_5743.JPG', '/Users/ohta/OneDrive - 国立研究開発法人 国立循環器病研究センター/TInull_182case_m3top3/TIdata20172018/TIscout_test_retina/0c1/IMG_5744.JPG', '/Users/ohta/OneDrive - 国立研究開発法人 国立循環器病研究センター/TInull_182case_m3top3/TIdata20172018/TIscout_test_retina/0c1/IMG_5745.JPG', '/Users/ohta/OneDrive - 国立研究開発法人 国立循環器病研究センター/TInull_182case_m3top3/TIdata20172018/TIscout_test_retina/0c1/IMG_5746.JPG', '/Users/ohta/OneDrive - 国立研究開発法人 国立循環器病研究センター/TInull_182case_m3top3/TIdata20172018/TIscout_test_retina/0c1/IMG_5747.JPG', '/Users/ohta/OneDrive - 国立研究開発法人 国立循環器病研究センター/TInull_182case_m3top3/TIdata20172018/TIscout_test_retina/0c1/IMG_5748.JPG', '/Users/ohta/OneDrive - 国立研究開発法人 国立循環器病研究センター/TInull_182case_m3top3/TIdata20172018/TIscout_test_retina/0c1/IMG_5749.JPG', '/Users/ohta/OneDrive - 国立研究開発法人 国立循環器病研究センター/TInull_182case_m3top3/TIdata20172018/TIscout_test_retina/0c1/IMG_5750.JPG', '/Users/ohta/OneDrive - 国立研究開発法人 国立循環器病研究センター/TInull_182case_m3top3/TIdata20172018/TIscout_test_retina/0c1/IMG_5751.JPG', '/Users/ohta/OneDrive - 国立研究開発法人 国立循環器病研究センター/TInull_182case_m3top3/TIdata20172018/TIscout_test_retina/0c1/IMG_5752.JPG', '/Users/ohta/OneDrive - 国立研究開発法人 国立循環器病研究センター/TInull_182case_m3top3/TIdata20172018/TIscout_test_retina/0c1/IMG_5753.JPG', '/Users/ohta/OneDrive - 国立研究開発法人 国立循環器病研究センター/TInull_182case_m3top3/TIdata20172018/TIscout_test_retina/0c1/IMG_5754.JPG', '/Users/ohta/OneDrive - 国立研究開発法人 国立循環器病研究センター/TInull_182case_m3top3/TIdata20172018/TIscout_test_retina/0c1/IMG_5755.JPG', '/Users/ohta/OneDrive - 国立研究開発法人 国立循環器病研究センター/TInull_182case_m3top3/TIdata20172018/TIscout_test_retina/0c1/IMG_5756.JPG', '/Users/ohta/OneDrive - 国立研究開発法人 国立循環器病研究センター/TInull_182case_m3top3/TIdata20172018/TIscout_test_retina/0c1/IMG_5757.JPG', '/Users/ohta/OneDrive - 国立研究開発法人 国立循環器病研究センター/TInull_182case_m3top3/TIdata20172018/TIscout_test_retina/0c1/IMG_5758.JPG', '/Users/ohta/OneDrive - 国立研究開発法人 国立循環器病研究センター/TInull_182case_m3top3/TIdata20172018/TIscout_test_retina/0c1/IMG_5759.JPG', '/Users/ohta/OneDrive - 国立研究開発法人 国立循環器病研究センター/TInull_182case_m3top3/TIdata20172018/TIscout_test_retina/0c1/IMG_5760.JPG', '/Users/ohta/OneDrive - 国立研究開発法人 国立循環器病研究センター/TInull_182case_m3top3/TIdata20172018/TIscout_test_retina/0c1/IMG_5761.JPG', '/Users/ohta/OneDrive - 国立研究開発法人 国立循環器病研究センター/TInull_182case_m3top3/TIdata20172018/TIscout_test_retina/0c1/IMG_5762.JPG', '/Users/ohta/OneDrive - 国立研究開発法人 国立循環器病研究センター/TInull_182case_m3top3/TIdata20172018/TIscout_test_retina/0c1/IMG_5763.JPG', '/Users/ohta/OneDrive - 国立研究開発法人 国立循環器病研究センター/TInull_182case_m3top3/TIdata20172018/TIscout_test_retina/0c1/IMG_5764.JPG', '/Users/ohta/OneDrive - 国立研究開発法人 国立循環器病研究センター/TInull_182case_m3top3/TIdata20172018/TIscout_test_retina/0c1/IMG_5765.JPG', '/Users/ohta/OneDrive - 国立研究開発法人 国立循環器病研究センター/TInull_182case_m3top3/TIdata20172018/TIscout_test_retina/0c1/IMG_5766.JPG', '/Users/ohta/OneDrive - 国立研究開発法人 国立循環器病研究センター/TInull_182case_m3top3/TIdata20172018/TIscout_test_retina/0c1/IMG_5767.JPG', '/Users/ohta/OneDrive - 国立研究開発法人 国立循環器病研究センター/TInull_182case_m3top3/TIdata20172018/TIscout_test_retina/0c1/IMG_5768.JPG', '/Users/ohta/OneDrive - 国立研究開発法人 国立循環器病研究センター/TInull_182case_m3top3/TIdata20172018/TIscout_test_retina/0c1/IMG_5769.JPG', '/Users/ohta/OneDrive - 国立研究開発法人 国立循環器病研究センター/TInull_182case_m3top3/TIdata20172018/TIscout_test_retina/0c1/IMG_5770.JPG', '/Users/ohta/OneDrive - 国立研究開発法人 国立循環器病研究センター/TInull_182case_m3top3/TIdata20172018/TIscout_test_retina/0c1/IMG_5771.JPG', '/Users/ohta/OneDrive - 国立研究開発法人 国立循環器病研究センター/TInull_182case_m3top3/TIdata20172018/TIscout_test_retina/0c1/IMG_5772.JPG', '/Users/ohta/OneDrive - 国立研究開発法人 国立循環器病研究センター/TInull_182case_m3top3/TIdata20172018/TIscout_test_retina/0c1/IMG_5773.JPG', '/Users/ohta/OneDrive - 国立研究開発法人 国立循環器病研究センター/TInull_182case_m3top3/TIdata20172018/TIscout_test_retina/0c1/IMG_5774.JPG', '/Users/ohta/OneDrive - 国立研究開発法人 国立循環器病研究センター/TInull_182case_m3top3/TIdata20172018/TIscout_test_retina/0c1/IMG_5775.JPG', '/Users/ohta/OneDrive - 国立研究開発法人 国立循環器病研究センター/TInull_182case_m3top3/TIdata20172018/TIscout_test_retina/0c1/IMG_5776.JPG', '/Users/ohta/OneDrive - 国立研究開発法人 国立循環器病研究センター/TInull_182case_m3top3/TIdata20172018/TIscout_test_retina/0c1/IMG_5777.JPG', '/Users/ohta/OneDrive - 国立研究開発法人 国立循環器病研究センター/TInull_182case_m3top3/TIdata20172018/TIscout_test_retina/0c1/IMG_5778.JPG', '/Users/ohta/OneDrive - 国立研究開発法人 国立循環器病研究センター/TInull_182case_m3top3/TIdata20172018/TIscout_test_retina/0c1/IMG_5779.JPG', '/Users/ohta/OneDrive - 国立研究開発法人 国立循環器病研究センター/TInull_182case_m3top3/TIdata20172018/TIscout_test_retina/0c1/IMG_5780.JPG', '/Users/ohta/OneDrive - 国立研究開発法人 国立循環器病研究センター/TInull_182case_m3top3/TIdata20172018/TIscout_test_retina/0c1/IMG_5781.JPG', '/Users/ohta/OneDrive - 国立研究開発法人 国立循環器病研究センター/TInull_182case_m3top3/TIdata20172018/TIscout_test_retina/0c1/IMG_5782.JPG', '/Users/ohta/OneDrive - 国立研究開発法人 国立循環器病研究センター/TInull_182case_m3top3/TIdata20172018/TIscout_test_retina/0c1/IMG_5783.JPG', '/Users/ohta/OneDrive - 国立研究開発法人 国立循環器病研究センター/TInull_182case_m3top3/TIdata20172018/TIscout_test_retina/0c1/IMG_5784.JPG']\n",
      "category number 3 /Users/ohta/OneDrive - 国立研究開発法人 国立循環器病研究センター/TInull_182case_m3top3/TIdata20172018/TIscout_test_retina/a0\n",
      "detected files ['/Users/ohta/OneDrive - 国立研究開発法人 国立循環器病研究センター/TInull_182case_m3top3/TIdata20172018/TIscout_test_retina/a0/IMG_5786.JPG', '/Users/ohta/OneDrive - 国立研究開発法人 国立循環器病研究センター/TInull_182case_m3top3/TIdata20172018/TIscout_test_retina/a0/IMG_5787.JPG', '/Users/ohta/OneDrive - 国立研究開発法人 国立循環器病研究センター/TInull_182case_m3top3/TIdata20172018/TIscout_test_retina/a0/IMG_5788.JPG', '/Users/ohta/OneDrive - 国立研究開発法人 国立循環器病研究センター/TInull_182case_m3top3/TIdata20172018/TIscout_test_retina/a0/IMG_5789.JPG', '/Users/ohta/OneDrive - 国立研究開発法人 国立循環器病研究センター/TInull_182case_m3top3/TIdata20172018/TIscout_test_retina/a0/IMG_5790.JPG', '/Users/ohta/OneDrive - 国立研究開発法人 国立循環器病研究センター/TInull_182case_m3top3/TIdata20172018/TIscout_test_retina/a0/IMG_5791.JPG', '/Users/ohta/OneDrive - 国立研究開発法人 国立循環器病研究センター/TInull_182case_m3top3/TIdata20172018/TIscout_test_retina/a0/IMG_5792.JPG', '/Users/ohta/OneDrive - 国立研究開発法人 国立循環器病研究センター/TInull_182case_m3top3/TIdata20172018/TIscout_test_retina/a0/IMG_5793.JPG', '/Users/ohta/OneDrive - 国立研究開発法人 国立循環器病研究センター/TInull_182case_m3top3/TIdata20172018/TIscout_test_retina/a0/IMG_5794.JPG', '/Users/ohta/OneDrive - 国立研究開発法人 国立循環器病研究センター/TInull_182case_m3top3/TIdata20172018/TIscout_test_retina/a0/IMG_5795.JPG', '/Users/ohta/OneDrive - 国立研究開発法人 国立循環器病研究センター/TInull_182case_m3top3/TIdata20172018/TIscout_test_retina/a0/IMG_5796.JPG', '/Users/ohta/OneDrive - 国立研究開発法人 国立循環器病研究センター/TInull_182case_m3top3/TIdata20172018/TIscout_test_retina/a0/IMG_5797.JPG', '/Users/ohta/OneDrive - 国立研究開発法人 国立循環器病研究センター/TInull_182case_m3top3/TIdata20172018/TIscout_test_retina/a0/IMG_5798.JPG', '/Users/ohta/OneDrive - 国立研究開発法人 国立循環器病研究センター/TInull_182case_m3top3/TIdata20172018/TIscout_test_retina/a0/IMG_5799.JPG', '/Users/ohta/OneDrive - 国立研究開発法人 国立循環器病研究センター/TInull_182case_m3top3/TIdata20172018/TIscout_test_retina/a0/IMG_5800.JPG', '/Users/ohta/OneDrive - 国立研究開発法人 国立循環器病研究センター/TInull_182case_m3top3/TIdata20172018/TIscout_test_retina/a0/IMG_5801.JPG', '/Users/ohta/OneDrive - 国立研究開発法人 国立循環器病研究センター/TInull_182case_m3top3/TIdata20172018/TIscout_test_retina/a0/IMG_5802.JPG', '/Users/ohta/OneDrive - 国立研究開発法人 国立循環器病研究センター/TInull_182case_m3top3/TIdata20172018/TIscout_test_retina/a0/IMG_5803.JPG', '/Users/ohta/OneDrive - 国立研究開発法人 国立循環器病研究センター/TInull_182case_m3top3/TIdata20172018/TIscout_test_retina/a0/IMG_5804.JPG', '/Users/ohta/OneDrive - 国立研究開発法人 国立循環器病研究センター/TInull_182case_m3top3/TIdata20172018/TIscout_test_retina/a0/IMG_5805.JPG', '/Users/ohta/OneDrive - 国立研究開発法人 国立循環器病研究センター/TInull_182case_m3top3/TIdata20172018/TIscout_test_retina/a0/IMG_5806.JPG', '/Users/ohta/OneDrive - 国立研究開発法人 国立循環器病研究センター/TInull_182case_m3top3/TIdata20172018/TIscout_test_retina/a0/IMG_5807.JPG', '/Users/ohta/OneDrive - 国立研究開発法人 国立循環器病研究センター/TInull_182case_m3top3/TIdata20172018/TIscout_test_retina/a0/IMG_5808.JPG', '/Users/ohta/OneDrive - 国立研究開発法人 国立循環器病研究センター/TInull_182case_m3top3/TIdata20172018/TIscout_test_retina/a0/IMG_5809.JPG', '/Users/ohta/OneDrive - 国立研究開発法人 国立循環器病研究センター/TInull_182case_m3top3/TIdata20172018/TIscout_test_retina/a0/IMG_5810.JPG', '/Users/ohta/OneDrive - 国立研究開発法人 国立循環器病研究センター/TInull_182case_m3top3/TIdata20172018/TIscout_test_retina/a0/IMG_5811.JPG', '/Users/ohta/OneDrive - 国立研究開発法人 国立循環器病研究センター/TInull_182case_m3top3/TIdata20172018/TIscout_test_retina/a0/IMG_5812.JPG', '/Users/ohta/OneDrive - 国立研究開発法人 国立循環器病研究センター/TInull_182case_m3top3/TIdata20172018/TIscout_test_retina/a0/IMG_5813.JPG', '/Users/ohta/OneDrive - 国立研究開発法人 国立循環器病研究センター/TInull_182case_m3top3/TIdata20172018/TIscout_test_retina/a0/IMG_5814.JPG', '/Users/ohta/OneDrive - 国立研究開発法人 国立循環器病研究センター/TInull_182case_m3top3/TIdata20172018/TIscout_test_retina/a0/IMG_5815.JPG', '/Users/ohta/OneDrive - 国立研究開発法人 国立循環器病研究センター/TInull_182case_m3top3/TIdata20172018/TIscout_test_retina/a0/IMG_5816.JPG', '/Users/ohta/OneDrive - 国立研究開発法人 国立循環器病研究センター/TInull_182case_m3top3/TIdata20172018/TIscout_test_retina/a0/IMG_5817.JPG', '/Users/ohta/OneDrive - 国立研究開発法人 国立循環器病研究センター/TInull_182case_m3top3/TIdata20172018/TIscout_test_retina/a0/IMG_5818.JPG', '/Users/ohta/OneDrive - 国立研究開発法人 国立循環器病研究センター/TInull_182case_m3top3/TIdata20172018/TIscout_test_retina/a0/IMG_5819.JPG', '/Users/ohta/OneDrive - 国立研究開発法人 国立循環器病研究センター/TInull_182case_m3top3/TIdata20172018/TIscout_test_retina/a0/IMG_5820.JPG', '/Users/ohta/OneDrive - 国立研究開発法人 国立循環器病研究センター/TInull_182case_m3top3/TIdata20172018/TIscout_test_retina/a0/IMG_5821.JPG', '/Users/ohta/OneDrive - 国立研究開発法人 国立循環器病研究センター/TInull_182case_m3top3/TIdata20172018/TIscout_test_retina/a0/IMG_5822.JPG', '/Users/ohta/OneDrive - 国立研究開発法人 国立循環器病研究センター/TInull_182case_m3top3/TIdata20172018/TIscout_test_retina/a0/IMG_5823.JPG', '/Users/ohta/OneDrive - 国立研究開発法人 国立循環器病研究センター/TInull_182case_m3top3/TIdata20172018/TIscout_test_retina/a0/IMG_5824.JPG', '/Users/ohta/OneDrive - 国立研究開発法人 国立循環器病研究センター/TInull_182case_m3top3/TIdata20172018/TIscout_test_retina/a0/IMG_5825.JPG', '/Users/ohta/OneDrive - 国立研究開発法人 国立循環器病研究センター/TInull_182case_m3top3/TIdata20172018/TIscout_test_retina/a0/IMG_5826.JPG', '/Users/ohta/OneDrive - 国立研究開発法人 国立循環器病研究センター/TInull_182case_m3top3/TIdata20172018/TIscout_test_retina/a0/IMG_5827.JPG', '/Users/ohta/OneDrive - 国立研究開発法人 国立循環器病研究センター/TInull_182case_m3top3/TIdata20172018/TIscout_test_retina/a0/IMG_5828.JPG', '/Users/ohta/OneDrive - 国立研究開発法人 国立循環器病研究センター/TInull_182case_m3top3/TIdata20172018/TIscout_test_retina/a0/IMG_5829.JPG', '/Users/ohta/OneDrive - 国立研究開発法人 国立循環器病研究センター/TInull_182case_m3top3/TIdata20172018/TIscout_test_retina/a0/IMG_5830.JPG', '/Users/ohta/OneDrive - 国立研究開発法人 国立循環器病研究センター/TInull_182case_m3top3/TIdata20172018/TIscout_test_retina/a0/IMG_5831.JPG']\n",
      "category number 4 /Users/ohta/OneDrive - 国立研究開発法人 国立循環器病研究センター/TInull_182case_m3top3/TIdata20172018/TIscout_test_retina/a1\n",
      "detected files ['/Users/ohta/OneDrive - 国立研究開発法人 国立循環器病研究センター/TInull_182case_m3top3/TIdata20172018/TIscout_test_retina/a1/IMG_5833.JPG', '/Users/ohta/OneDrive - 国立研究開発法人 国立循環器病研究センター/TInull_182case_m3top3/TIdata20172018/TIscout_test_retina/a1/IMG_5834.JPG', '/Users/ohta/OneDrive - 国立研究開発法人 国立循環器病研究センター/TInull_182case_m3top3/TIdata20172018/TIscout_test_retina/a1/IMG_5835.JPG', '/Users/ohta/OneDrive - 国立研究開発法人 国立循環器病研究センター/TInull_182case_m3top3/TIdata20172018/TIscout_test_retina/a1/IMG_5836.JPG', '/Users/ohta/OneDrive - 国立研究開発法人 国立循環器病研究センター/TInull_182case_m3top3/TIdata20172018/TIscout_test_retina/a1/IMG_5837.JPG', '/Users/ohta/OneDrive - 国立研究開発法人 国立循環器病研究センター/TInull_182case_m3top3/TIdata20172018/TIscout_test_retina/a1/IMG_5838.JPG', '/Users/ohta/OneDrive - 国立研究開発法人 国立循環器病研究センター/TInull_182case_m3top3/TIdata20172018/TIscout_test_retina/a1/IMG_5839.JPG', '/Users/ohta/OneDrive - 国立研究開発法人 国立循環器病研究センター/TInull_182case_m3top3/TIdata20172018/TIscout_test_retina/a1/IMG_5840.JPG', '/Users/ohta/OneDrive - 国立研究開発法人 国立循環器病研究センター/TInull_182case_m3top3/TIdata20172018/TIscout_test_retina/a1/IMG_5841.JPG', '/Users/ohta/OneDrive - 国立研究開発法人 国立循環器病研究センター/TInull_182case_m3top3/TIdata20172018/TIscout_test_retina/a1/IMG_5842.JPG', '/Users/ohta/OneDrive - 国立研究開発法人 国立循環器病研究センター/TInull_182case_m3top3/TIdata20172018/TIscout_test_retina/a1/IMG_5843.JPG', '/Users/ohta/OneDrive - 国立研究開発法人 国立循環器病研究センター/TInull_182case_m3top3/TIdata20172018/TIscout_test_retina/a1/IMG_5844.JPG', '/Users/ohta/OneDrive - 国立研究開発法人 国立循環器病研究センター/TInull_182case_m3top3/TIdata20172018/TIscout_test_retina/a1/IMG_5845.JPG', '/Users/ohta/OneDrive - 国立研究開発法人 国立循環器病研究センター/TInull_182case_m3top3/TIdata20172018/TIscout_test_retina/a1/IMG_5846.JPG', '/Users/ohta/OneDrive - 国立研究開発法人 国立循環器病研究センター/TInull_182case_m3top3/TIdata20172018/TIscout_test_retina/a1/IMG_5847.JPG', '/Users/ohta/OneDrive - 国立研究開発法人 国立循環器病研究センター/TInull_182case_m3top3/TIdata20172018/TIscout_test_retina/a1/IMG_5848.JPG', '/Users/ohta/OneDrive - 国立研究開発法人 国立循環器病研究センター/TInull_182case_m3top3/TIdata20172018/TIscout_test_retina/a1/IMG_5849.JPG', '/Users/ohta/OneDrive - 国立研究開発法人 国立循環器病研究センター/TInull_182case_m3top3/TIdata20172018/TIscout_test_retina/a1/IMG_5850.JPG', '/Users/ohta/OneDrive - 国立研究開発法人 国立循環器病研究センター/TInull_182case_m3top3/TIdata20172018/TIscout_test_retina/a1/IMG_5851.JPG', '/Users/ohta/OneDrive - 国立研究開発法人 国立循環器病研究センター/TInull_182case_m3top3/TIdata20172018/TIscout_test_retina/a1/IMG_5852.JPG', '/Users/ohta/OneDrive - 国立研究開発法人 国立循環器病研究センター/TInull_182case_m3top3/TIdata20172018/TIscout_test_retina/a1/IMG_5853.JPG', '/Users/ohta/OneDrive - 国立研究開発法人 国立循環器病研究センター/TInull_182case_m3top3/TIdata20172018/TIscout_test_retina/a1/IMG_5854.JPG', '/Users/ohta/OneDrive - 国立研究開発法人 国立循環器病研究センター/TInull_182case_m3top3/TIdata20172018/TIscout_test_retina/a1/IMG_5855.JPG', '/Users/ohta/OneDrive - 国立研究開発法人 国立循環器病研究センター/TInull_182case_m3top3/TIdata20172018/TIscout_test_retina/a1/IMG_5856.JPG', '/Users/ohta/OneDrive - 国立研究開発法人 国立循環器病研究センター/TInull_182case_m3top3/TIdata20172018/TIscout_test_retina/a1/IMG_5857.JPG', '/Users/ohta/OneDrive - 国立研究開発法人 国立循環器病研究センター/TInull_182case_m3top3/TIdata20172018/TIscout_test_retina/a1/IMG_5858.JPG', '/Users/ohta/OneDrive - 国立研究開発法人 国立循環器病研究センター/TInull_182case_m3top3/TIdata20172018/TIscout_test_retina/a1/IMG_5859.JPG', '/Users/ohta/OneDrive - 国立研究開発法人 国立循環器病研究センター/TInull_182case_m3top3/TIdata20172018/TIscout_test_retina/a1/IMG_5860.JPG', '/Users/ohta/OneDrive - 国立研究開発法人 国立循環器病研究センター/TInull_182case_m3top3/TIdata20172018/TIscout_test_retina/a1/IMG_5861.JPG', '/Users/ohta/OneDrive - 国立研究開発法人 国立循環器病研究センター/TInull_182case_m3top3/TIdata20172018/TIscout_test_retina/a1/IMG_5862.JPG', '/Users/ohta/OneDrive - 国立研究開発法人 国立循環器病研究センター/TInull_182case_m3top3/TIdata20172018/TIscout_test_retina/a1/IMG_5863.JPG', '/Users/ohta/OneDrive - 国立研究開発法人 国立循環器病研究センター/TInull_182case_m3top3/TIdata20172018/TIscout_test_retina/a1/IMG_5864.JPG', '/Users/ohta/OneDrive - 国立研究開発法人 国立循環器病研究センター/TInull_182case_m3top3/TIdata20172018/TIscout_test_retina/a1/IMG_5865.JPG', '/Users/ohta/OneDrive - 国立研究開発法人 国立循環器病研究センター/TInull_182case_m3top3/TIdata20172018/TIscout_test_retina/a1/IMG_5866.JPG', '/Users/ohta/OneDrive - 国立研究開発法人 国立循環器病研究センター/TInull_182case_m3top3/TIdata20172018/TIscout_test_retina/a1/IMG_5867.JPG', '/Users/ohta/OneDrive - 国立研究開発法人 国立循環器病研究センター/TInull_182case_m3top3/TIdata20172018/TIscout_test_retina/a1/IMG_5868.JPG', '/Users/ohta/OneDrive - 国立研究開発法人 国立循環器病研究センター/TInull_182case_m3top3/TIdata20172018/TIscout_test_retina/a1/IMG_5869.JPG', '/Users/ohta/OneDrive - 国立研究開発法人 国立循環器病研究センター/TInull_182case_m3top3/TIdata20172018/TIscout_test_retina/a1/IMG_5870.JPG', '/Users/ohta/OneDrive - 国立研究開発法人 国立循環器病研究センター/TInull_182case_m3top3/TIdata20172018/TIscout_test_retina/a1/IMG_5872.JPG', '/Users/ohta/OneDrive - 国立研究開発法人 国立循環器病研究センター/TInull_182case_m3top3/TIdata20172018/TIscout_test_retina/a1/IMG_5873.JPG', '/Users/ohta/OneDrive - 国立研究開発法人 国立循環器病研究センター/TInull_182case_m3top3/TIdata20172018/TIscout_test_retina/a1/IMG_5874.JPG', '/Users/ohta/OneDrive - 国立研究開発法人 国立循環器病研究センター/TInull_182case_m3top3/TIdata20172018/TIscout_test_retina/a1/IMG_5875.JPG', '/Users/ohta/OneDrive - 国立研究開発法人 国立循環器病研究センター/TInull_182case_m3top3/TIdata20172018/TIscout_test_retina/a1/IMG_5876.JPG', '/Users/ohta/OneDrive - 国立研究開発法人 国立循環器病研究センター/TInull_182case_m3top3/TIdata20172018/TIscout_test_retina/a1/IMG_5877.JPG', '/Users/ohta/OneDrive - 国立研究開発法人 国立循環器病研究センター/TInull_182case_m3top3/TIdata20172018/TIscout_test_retina/a1/IMG_5878.JPG', '/Users/ohta/OneDrive - 国立研究開発法人 国立循環器病研究センター/TInull_182case_m3top3/TIdata20172018/TIscout_test_retina/a1/IMG_5879.JPG']\n",
      "category number 5 /Users/ohta/OneDrive - 国立研究開発法人 国立循環器病研究センター/TInull_182case_m3top3/TIdata20172018/TIscout_test_retina/a2\n",
      "detected files ['/Users/ohta/OneDrive - 国立研究開発法人 国立循環器病研究センター/TInull_182case_m3top3/TIdata20172018/TIscout_test_retina/a2/IMG_5881.JPG', '/Users/ohta/OneDrive - 国立研究開発法人 国立循環器病研究センター/TInull_182case_m3top3/TIdata20172018/TIscout_test_retina/a2/IMG_5882.JPG', '/Users/ohta/OneDrive - 国立研究開発法人 国立循環器病研究センター/TInull_182case_m3top3/TIdata20172018/TIscout_test_retina/a2/IMG_5883.JPG', '/Users/ohta/OneDrive - 国立研究開発法人 国立循環器病研究センター/TInull_182case_m3top3/TIdata20172018/TIscout_test_retina/a2/IMG_5884.JPG', '/Users/ohta/OneDrive - 国立研究開発法人 国立循環器病研究センター/TInull_182case_m3top3/TIdata20172018/TIscout_test_retina/a2/IMG_5885.JPG', '/Users/ohta/OneDrive - 国立研究開発法人 国立循環器病研究センター/TInull_182case_m3top3/TIdata20172018/TIscout_test_retina/a2/IMG_5886.JPG', '/Users/ohta/OneDrive - 国立研究開発法人 国立循環器病研究センター/TInull_182case_m3top3/TIdata20172018/TIscout_test_retina/a2/IMG_5887.JPG', '/Users/ohta/OneDrive - 国立研究開発法人 国立循環器病研究センター/TInull_182case_m3top3/TIdata20172018/TIscout_test_retina/a2/IMG_5888.JPG', '/Users/ohta/OneDrive - 国立研究開発法人 国立循環器病研究センター/TInull_182case_m3top3/TIdata20172018/TIscout_test_retina/a2/IMG_5889.JPG', '/Users/ohta/OneDrive - 国立研究開発法人 国立循環器病研究センター/TInull_182case_m3top3/TIdata20172018/TIscout_test_retina/a2/IMG_5890.JPG', '/Users/ohta/OneDrive - 国立研究開発法人 国立循環器病研究センター/TInull_182case_m3top3/TIdata20172018/TIscout_test_retina/a2/IMG_5891.JPG', '/Users/ohta/OneDrive - 国立研究開発法人 国立循環器病研究センター/TInull_182case_m3top3/TIdata20172018/TIscout_test_retina/a2/IMG_5892.JPG', '/Users/ohta/OneDrive - 国立研究開発法人 国立循環器病研究センター/TInull_182case_m3top3/TIdata20172018/TIscout_test_retina/a2/IMG_5893.JPG', '/Users/ohta/OneDrive - 国立研究開発法人 国立循環器病研究センター/TInull_182case_m3top3/TIdata20172018/TIscout_test_retina/a2/IMG_5894.JPG', '/Users/ohta/OneDrive - 国立研究開発法人 国立循環器病研究センター/TInull_182case_m3top3/TIdata20172018/TIscout_test_retina/a2/IMG_5895.JPG', '/Users/ohta/OneDrive - 国立研究開発法人 国立循環器病研究センター/TInull_182case_m3top3/TIdata20172018/TIscout_test_retina/a2/IMG_5896.JPG', '/Users/ohta/OneDrive - 国立研究開発法人 国立循環器病研究センター/TInull_182case_m3top3/TIdata20172018/TIscout_test_retina/a2/IMG_5897.JPG', '/Users/ohta/OneDrive - 国立研究開発法人 国立循環器病研究センター/TInull_182case_m3top3/TIdata20172018/TIscout_test_retina/a2/IMG_5898.JPG', '/Users/ohta/OneDrive - 国立研究開発法人 国立循環器病研究センター/TInull_182case_m3top3/TIdata20172018/TIscout_test_retina/a2/IMG_5899.JPG', '/Users/ohta/OneDrive - 国立研究開発法人 国立循環器病研究センター/TInull_182case_m3top3/TIdata20172018/TIscout_test_retina/a2/IMG_5900.JPG', '/Users/ohta/OneDrive - 国立研究開発法人 国立循環器病研究センター/TInull_182case_m3top3/TIdata20172018/TIscout_test_retina/a2/IMG_5901.JPG', '/Users/ohta/OneDrive - 国立研究開発法人 国立循環器病研究センター/TInull_182case_m3top3/TIdata20172018/TIscout_test_retina/a2/IMG_5902.JPG', '/Users/ohta/OneDrive - 国立研究開発法人 国立循環器病研究センター/TInull_182case_m3top3/TIdata20172018/TIscout_test_retina/a2/IMG_5903.JPG', '/Users/ohta/OneDrive - 国立研究開発法人 国立循環器病研究センター/TInull_182case_m3top3/TIdata20172018/TIscout_test_retina/a2/IMG_5904.JPG', '/Users/ohta/OneDrive - 国立研究開発法人 国立循環器病研究センター/TInull_182case_m3top3/TIdata20172018/TIscout_test_retina/a2/IMG_5905.JPG', '/Users/ohta/OneDrive - 国立研究開発法人 国立循環器病研究センター/TInull_182case_m3top3/TIdata20172018/TIscout_test_retina/a2/IMG_5906.JPG', '/Users/ohta/OneDrive - 国立研究開発法人 国立循環器病研究センター/TInull_182case_m3top3/TIdata20172018/TIscout_test_retina/a2/IMG_5907.JPG', '/Users/ohta/OneDrive - 国立研究開発法人 国立循環器病研究センター/TInull_182case_m3top3/TIdata20172018/TIscout_test_retina/a2/IMG_5908.JPG', '/Users/ohta/OneDrive - 国立研究開発法人 国立循環器病研究センター/TInull_182case_m3top3/TIdata20172018/TIscout_test_retina/a2/IMG_5909.JPG', '/Users/ohta/OneDrive - 国立研究開発法人 国立循環器病研究センター/TInull_182case_m3top3/TIdata20172018/TIscout_test_retina/a2/IMG_5911.JPG', '/Users/ohta/OneDrive - 国立研究開発法人 国立循環器病研究センター/TInull_182case_m3top3/TIdata20172018/TIscout_test_retina/a2/IMG_5912.JPG', '/Users/ohta/OneDrive - 国立研究開発法人 国立循環器病研究センター/TInull_182case_m3top3/TIdata20172018/TIscout_test_retina/a2/IMG_5913.JPG', '/Users/ohta/OneDrive - 国立研究開発法人 国立循環器病研究センター/TInull_182case_m3top3/TIdata20172018/TIscout_test_retina/a2/IMG_5914.JPG', '/Users/ohta/OneDrive - 国立研究開発法人 国立循環器病研究センター/TInull_182case_m3top3/TIdata20172018/TIscout_test_retina/a2/IMG_5915.JPG', '/Users/ohta/OneDrive - 国立研究開発法人 国立循環器病研究センター/TInull_182case_m3top3/TIdata20172018/TIscout_test_retina/a2/IMG_5916.JPG', '/Users/ohta/OneDrive - 国立研究開発法人 国立循環器病研究センター/TInull_182case_m3top3/TIdata20172018/TIscout_test_retina/a2/IMG_5917.JPG', '/Users/ohta/OneDrive - 国立研究開発法人 国立循環器病研究センター/TInull_182case_m3top3/TIdata20172018/TIscout_test_retina/a2/IMG_5918.JPG', '/Users/ohta/OneDrive - 国立研究開発法人 国立循環器病研究センター/TInull_182case_m3top3/TIdata20172018/TIscout_test_retina/a2/IMG_5919.JPG', '/Users/ohta/OneDrive - 国立研究開発法人 国立循環器病研究センター/TInull_182case_m3top3/TIdata20172018/TIscout_test_retina/a2/IMG_5920.JPG', '/Users/ohta/OneDrive - 国立研究開発法人 国立循環器病研究センター/TInull_182case_m3top3/TIdata20172018/TIscout_test_retina/a2/IMG_5921.JPG', '/Users/ohta/OneDrive - 国立研究開発法人 国立循環器病研究センター/TInull_182case_m3top3/TIdata20172018/TIscout_test_retina/a2/IMG_5922.JPG', '/Users/ohta/OneDrive - 国立研究開発法人 国立循環器病研究センター/TInull_182case_m3top3/TIdata20172018/TIscout_test_retina/a2/IMG_5923.JPG', '/Users/ohta/OneDrive - 国立研究開発法人 国立循環器病研究センター/TInull_182case_m3top3/TIdata20172018/TIscout_test_retina/a2/IMG_5924.JPG', '/Users/ohta/OneDrive - 国立研究開発法人 国立循環器病研究センター/TInull_182case_m3top3/TIdata20172018/TIscout_test_retina/a2/IMG_5925.JPG', '/Users/ohta/OneDrive - 国立研究開発法人 国立循環器病研究センター/TInull_182case_m3top3/TIdata20172018/TIscout_test_retina/a2/IMG_5926.JPG', '/Users/ohta/OneDrive - 国立研究開発法人 国立循環器病研究センター/TInull_182case_m3top3/TIdata20172018/TIscout_test_retina/a2/IMG_5927.JPG']\n",
      "category number 6 /Users/ohta/OneDrive - 国立研究開発法人 国立循環器病研究センター/TInull_182case_m3top3/TIdata20172018/TIscout_test_retina/a3\n",
      "detected files ['/Users/ohta/OneDrive - 国立研究開発法人 国立循環器病研究センター/TInull_182case_m3top3/TIdata20172018/TIscout_test_retina/a3/IMG_5928.JPG', '/Users/ohta/OneDrive - 国立研究開発法人 国立循環器病研究センター/TInull_182case_m3top3/TIdata20172018/TIscout_test_retina/a3/IMG_5929.JPG', '/Users/ohta/OneDrive - 国立研究開発法人 国立循環器病研究センター/TInull_182case_m3top3/TIdata20172018/TIscout_test_retina/a3/IMG_5930.JPG', '/Users/ohta/OneDrive - 国立研究開発法人 国立循環器病研究センター/TInull_182case_m3top3/TIdata20172018/TIscout_test_retina/a3/IMG_5931.JPG', '/Users/ohta/OneDrive - 国立研究開発法人 国立循環器病研究センター/TInull_182case_m3top3/TIdata20172018/TIscout_test_retina/a3/IMG_5932.JPG', '/Users/ohta/OneDrive - 国立研究開発法人 国立循環器病研究センター/TInull_182case_m3top3/TIdata20172018/TIscout_test_retina/a3/IMG_5933.JPG', '/Users/ohta/OneDrive - 国立研究開発法人 国立循環器病研究センター/TInull_182case_m3top3/TIdata20172018/TIscout_test_retina/a3/IMG_5934.JPG', '/Users/ohta/OneDrive - 国立研究開発法人 国立循環器病研究センター/TInull_182case_m3top3/TIdata20172018/TIscout_test_retina/a3/IMG_5935.JPG', '/Users/ohta/OneDrive - 国立研究開発法人 国立循環器病研究センター/TInull_182case_m3top3/TIdata20172018/TIscout_test_retina/a3/IMG_5936.JPG', '/Users/ohta/OneDrive - 国立研究開発法人 国立循環器病研究センター/TInull_182case_m3top3/TIdata20172018/TIscout_test_retina/a3/IMG_5937.JPG', '/Users/ohta/OneDrive - 国立研究開発法人 国立循環器病研究センター/TInull_182case_m3top3/TIdata20172018/TIscout_test_retina/a3/IMG_5938.JPG', '/Users/ohta/OneDrive - 国立研究開発法人 国立循環器病研究センター/TInull_182case_m3top3/TIdata20172018/TIscout_test_retina/a3/IMG_5939.JPG', '/Users/ohta/OneDrive - 国立研究開発法人 国立循環器病研究センター/TInull_182case_m3top3/TIdata20172018/TIscout_test_retina/a3/IMG_5940.JPG', '/Users/ohta/OneDrive - 国立研究開発法人 国立循環器病研究センター/TInull_182case_m3top3/TIdata20172018/TIscout_test_retina/a3/IMG_5941.JPG', '/Users/ohta/OneDrive - 国立研究開発法人 国立循環器病研究センター/TInull_182case_m3top3/TIdata20172018/TIscout_test_retina/a3/IMG_5942.JPG', '/Users/ohta/OneDrive - 国立研究開発法人 国立循環器病研究センター/TInull_182case_m3top3/TIdata20172018/TIscout_test_retina/a3/IMG_5943.JPG', '/Users/ohta/OneDrive - 国立研究開発法人 国立循環器病研究センター/TInull_182case_m3top3/TIdata20172018/TIscout_test_retina/a3/IMG_5944.JPG', '/Users/ohta/OneDrive - 国立研究開発法人 国立循環器病研究センター/TInull_182case_m3top3/TIdata20172018/TIscout_test_retina/a3/IMG_5945.JPG', '/Users/ohta/OneDrive - 国立研究開発法人 国立循環器病研究センター/TInull_182case_m3top3/TIdata20172018/TIscout_test_retina/a3/IMG_5946.JPG', '/Users/ohta/OneDrive - 国立研究開発法人 国立循環器病研究センター/TInull_182case_m3top3/TIdata20172018/TIscout_test_retina/a3/IMG_5947.JPG', '/Users/ohta/OneDrive - 国立研究開発法人 国立循環器病研究センター/TInull_182case_m3top3/TIdata20172018/TIscout_test_retina/a3/IMG_5948.JPG', '/Users/ohta/OneDrive - 国立研究開発法人 国立循環器病研究センター/TInull_182case_m3top3/TIdata20172018/TIscout_test_retina/a3/IMG_5949.JPG', '/Users/ohta/OneDrive - 国立研究開発法人 国立循環器病研究センター/TInull_182case_m3top3/TIdata20172018/TIscout_test_retina/a3/IMG_5950.JPG', '/Users/ohta/OneDrive - 国立研究開発法人 国立循環器病研究センター/TInull_182case_m3top3/TIdata20172018/TIscout_test_retina/a3/IMG_5951.JPG', '/Users/ohta/OneDrive - 国立研究開発法人 国立循環器病研究センター/TInull_182case_m3top3/TIdata20172018/TIscout_test_retina/a3/IMG_5952.JPG', '/Users/ohta/OneDrive - 国立研究開発法人 国立循環器病研究センター/TInull_182case_m3top3/TIdata20172018/TIscout_test_retina/a3/IMG_5953.JPG', '/Users/ohta/OneDrive - 国立研究開発法人 国立循環器病研究センター/TInull_182case_m3top3/TIdata20172018/TIscout_test_retina/a3/IMG_5954.JPG', '/Users/ohta/OneDrive - 国立研究開発法人 国立循環器病研究センター/TInull_182case_m3top3/TIdata20172018/TIscout_test_retina/a3/IMG_5955.JPG', '/Users/ohta/OneDrive - 国立研究開発法人 国立循環器病研究センター/TInull_182case_m3top3/TIdata20172018/TIscout_test_retina/a3/IMG_5956.JPG', '/Users/ohta/OneDrive - 国立研究開発法人 国立循環器病研究センター/TInull_182case_m3top3/TIdata20172018/TIscout_test_retina/a3/IMG_5957.JPG', '/Users/ohta/OneDrive - 国立研究開発法人 国立循環器病研究センター/TInull_182case_m3top3/TIdata20172018/TIscout_test_retina/a3/IMG_5958.JPG', '/Users/ohta/OneDrive - 国立研究開発法人 国立循環器病研究センター/TInull_182case_m3top3/TIdata20172018/TIscout_test_retina/a3/IMG_5959.JPG', '/Users/ohta/OneDrive - 国立研究開発法人 国立循環器病研究センター/TInull_182case_m3top3/TIdata20172018/TIscout_test_retina/a3/IMG_5960.JPG', '/Users/ohta/OneDrive - 国立研究開発法人 国立循環器病研究センター/TInull_182case_m3top3/TIdata20172018/TIscout_test_retina/a3/IMG_5961.JPG', '/Users/ohta/OneDrive - 国立研究開発法人 国立循環器病研究センター/TInull_182case_m3top3/TIdata20172018/TIscout_test_retina/a3/IMG_5962.JPG', '/Users/ohta/OneDrive - 国立研究開発法人 国立循環器病研究センター/TInull_182case_m3top3/TIdata20172018/TIscout_test_retina/a3/IMG_5963.JPG', '/Users/ohta/OneDrive - 国立研究開発法人 国立循環器病研究センター/TInull_182case_m3top3/TIdata20172018/TIscout_test_retina/a3/IMG_5964.JPG', '/Users/ohta/OneDrive - 国立研究開発法人 国立循環器病研究センター/TInull_182case_m3top3/TIdata20172018/TIscout_test_retina/a3/IMG_5965.JPG', '/Users/ohta/OneDrive - 国立研究開発法人 国立循環器病研究センター/TInull_182case_m3top3/TIdata20172018/TIscout_test_retina/a3/IMG_5966.JPG', '/Users/ohta/OneDrive - 国立研究開発法人 国立循環器病研究センター/TInull_182case_m3top3/TIdata20172018/TIscout_test_retina/a3/IMG_5967.JPG', '/Users/ohta/OneDrive - 国立研究開発法人 国立循環器病研究センター/TInull_182case_m3top3/TIdata20172018/TIscout_test_retina/a3/IMG_5968.JPG', '/Users/ohta/OneDrive - 国立研究開発法人 国立循環器病研究センター/TInull_182case_m3top3/TIdata20172018/TIscout_test_retina/a3/IMG_5969.JPG', '/Users/ohta/OneDrive - 国立研究開発法人 国立循環器病研究センター/TInull_182case_m3top3/TIdata20172018/TIscout_test_retina/a3/IMG_5970.JPG', '/Users/ohta/OneDrive - 国立研究開発法人 国立循環器病研究センター/TInull_182case_m3top3/TIdata20172018/TIscout_test_retina/a3/IMG_5971.JPG', '/Users/ohta/OneDrive - 国立研究開発法人 国立循環器病研究センター/TInull_182case_m3top3/TIdata20172018/TIscout_test_retina/a3/IMG_5972.JPG', '/Users/ohta/OneDrive - 国立研究開発法人 国立循環器病研究センター/TInull_182case_m3top3/TIdata20172018/TIscout_test_retina/a3/IMG_5973.JPG']\n",
      "['IMG_5644.JPG', 'IMG_5645.JPG', 'IMG_5646.JPG', 'IMG_5647.JPG', 'IMG_5648.JPG', 'IMG_5649.JPG', 'IMG_5650.JPG', 'IMG_5651.JPG', 'IMG_5652.JPG', 'IMG_5653.JPG', 'IMG_5654.JPG', 'IMG_5655.JPG', 'IMG_5656.JPG', 'IMG_5657.JPG', 'IMG_5658.JPG', 'IMG_5659.JPG', 'IMG_5660.JPG', 'IMG_5661.JPG', 'IMG_5662.JPG', 'IMG_5663.JPG', 'IMG_5664.JPG', 'IMG_5665.JPG', 'IMG_5666.JPG', 'IMG_5667.JPG', 'IMG_5668.JPG', 'IMG_5669.JPG', 'IMG_5670.JPG', 'IMG_5671.JPG', 'IMG_5672.JPG', 'IMG_5673.JPG', 'IMG_5674.JPG', 'IMG_5675.JPG', 'IMG_5676.JPG', 'IMG_5677.JPG', 'IMG_5678.JPG', 'IMG_5679.JPG', 'IMG_5680.JPG', 'IMG_5681.JPG', 'IMG_5682.JPG', 'IMG_5683.JPG', 'IMG_5684.JPG', 'IMG_5685.JPG', 'IMG_5686.JPG', 'IMG_5687.JPG', 'IMG_5688.JPG', 'IMG_5689.JPG', 'IMG_5692.JPG', 'IMG_5693.JPG', 'IMG_5694.JPG', 'IMG_5695.JPG', 'IMG_5696.JPG', 'IMG_5697.JPG', 'IMG_5698.JPG', 'IMG_5699.JPG', 'IMG_5700.JPG', 'IMG_5701.JPG', 'IMG_5702.JPG', 'IMG_5703.JPG', 'IMG_5704.JPG', 'IMG_5705.JPG', 'IMG_5706.JPG', 'IMG_5707.JPG', 'IMG_5708.JPG', 'IMG_5709.JPG', 'IMG_5710.JPG', 'IMG_5711.JPG', 'IMG_5712.JPG', 'IMG_5713.JPG', 'IMG_5714.JPG', 'IMG_5715.JPG', 'IMG_5716.JPG', 'IMG_5717.JPG', 'IMG_5718.JPG', 'IMG_5719.JPG', 'IMG_5720.JPG', 'IMG_5721.JPG', 'IMG_5722.JPG', 'IMG_5723.JPG', 'IMG_5724.JPG', 'IMG_5725.JPG', 'IMG_5726.JPG', 'IMG_5727.JPG', 'IMG_5728.JPG', 'IMG_5729.JPG', 'IMG_5730.JPG', 'IMG_5731.JPG', 'IMG_5732.JPG', 'IMG_5733.JPG', 'IMG_5734.JPG', 'IMG_5735.JPG', 'IMG_5736.JPG', 'IMG_5737.JPG', 'IMG_5739.JPG', 'IMG_5740.JPG', 'IMG_5741.JPG', 'IMG_5742.JPG', 'IMG_5743.JPG', 'IMG_5744.JPG', 'IMG_5745.JPG', 'IMG_5746.JPG', 'IMG_5747.JPG', 'IMG_5748.JPG', 'IMG_5749.JPG', 'IMG_5750.JPG', 'IMG_5751.JPG', 'IMG_5752.JPG', 'IMG_5753.JPG', 'IMG_5754.JPG', 'IMG_5755.JPG', 'IMG_5756.JPG', 'IMG_5757.JPG', 'IMG_5758.JPG', 'IMG_5759.JPG', 'IMG_5760.JPG', 'IMG_5761.JPG', 'IMG_5762.JPG', 'IMG_5763.JPG', 'IMG_5764.JPG', 'IMG_5765.JPG', 'IMG_5766.JPG', 'IMG_5767.JPG', 'IMG_5768.JPG', 'IMG_5769.JPG', 'IMG_5770.JPG', 'IMG_5771.JPG', 'IMG_5772.JPG', 'IMG_5773.JPG', 'IMG_5774.JPG', 'IMG_5775.JPG', 'IMG_5776.JPG', 'IMG_5777.JPG', 'IMG_5778.JPG', 'IMG_5779.JPG', 'IMG_5780.JPG', 'IMG_5781.JPG', 'IMG_5782.JPG', 'IMG_5783.JPG', 'IMG_5784.JPG', 'IMG_5786.JPG', 'IMG_5787.JPG', 'IMG_5788.JPG', 'IMG_5789.JPG', 'IMG_5790.JPG', 'IMG_5791.JPG', 'IMG_5792.JPG', 'IMG_5793.JPG', 'IMG_5794.JPG', 'IMG_5795.JPG', 'IMG_5796.JPG', 'IMG_5797.JPG', 'IMG_5798.JPG', 'IMG_5799.JPG', 'IMG_5800.JPG', 'IMG_5801.JPG', 'IMG_5802.JPG', 'IMG_5803.JPG', 'IMG_5804.JPG', 'IMG_5805.JPG', 'IMG_5806.JPG', 'IMG_5807.JPG', 'IMG_5808.JPG', 'IMG_5809.JPG', 'IMG_5810.JPG', 'IMG_5811.JPG', 'IMG_5812.JPG', 'IMG_5813.JPG', 'IMG_5814.JPG', 'IMG_5815.JPG', 'IMG_5816.JPG', 'IMG_5817.JPG', 'IMG_5818.JPG', 'IMG_5819.JPG', 'IMG_5820.JPG', 'IMG_5821.JPG', 'IMG_5822.JPG', 'IMG_5823.JPG', 'IMG_5824.JPG', 'IMG_5825.JPG', 'IMG_5826.JPG', 'IMG_5827.JPG', 'IMG_5828.JPG', 'IMG_5829.JPG', 'IMG_5830.JPG', 'IMG_5831.JPG', 'IMG_5833.JPG', 'IMG_5834.JPG', 'IMG_5835.JPG', 'IMG_5836.JPG', 'IMG_5837.JPG', 'IMG_5838.JPG', 'IMG_5839.JPG', 'IMG_5840.JPG', 'IMG_5841.JPG', 'IMG_5842.JPG', 'IMG_5843.JPG', 'IMG_5844.JPG', 'IMG_5845.JPG', 'IMG_5846.JPG', 'IMG_5847.JPG', 'IMG_5848.JPG', 'IMG_5849.JPG', 'IMG_5850.JPG', 'IMG_5851.JPG', 'IMG_5852.JPG', 'IMG_5853.JPG', 'IMG_5854.JPG', 'IMG_5855.JPG', 'IMG_5856.JPG', 'IMG_5857.JPG', 'IMG_5858.JPG', 'IMG_5859.JPG', 'IMG_5860.JPG', 'IMG_5861.JPG', 'IMG_5862.JPG', 'IMG_5863.JPG', 'IMG_5864.JPG', 'IMG_5865.JPG', 'IMG_5866.JPG', 'IMG_5867.JPG', 'IMG_5868.JPG', 'IMG_5869.JPG', 'IMG_5870.JPG', 'IMG_5872.JPG', 'IMG_5873.JPG', 'IMG_5874.JPG', 'IMG_5875.JPG', 'IMG_5876.JPG', 'IMG_5877.JPG', 'IMG_5878.JPG', 'IMG_5879.JPG', 'IMG_5881.JPG', 'IMG_5882.JPG', 'IMG_5883.JPG', 'IMG_5884.JPG', 'IMG_5885.JPG', 'IMG_5886.JPG', 'IMG_5887.JPG', 'IMG_5888.JPG', 'IMG_5889.JPG', 'IMG_5890.JPG', 'IMG_5891.JPG', 'IMG_5892.JPG', 'IMG_5893.JPG', 'IMG_5894.JPG', 'IMG_5895.JPG', 'IMG_5896.JPG', 'IMG_5897.JPG', 'IMG_5898.JPG', 'IMG_5899.JPG', 'IMG_5900.JPG', 'IMG_5901.JPG', 'IMG_5902.JPG', 'IMG_5903.JPG', 'IMG_5904.JPG', 'IMG_5905.JPG', 'IMG_5906.JPG', 'IMG_5907.JPG', 'IMG_5908.JPG', 'IMG_5909.JPG', 'IMG_5911.JPG', 'IMG_5912.JPG', 'IMG_5913.JPG', 'IMG_5914.JPG', 'IMG_5915.JPG', 'IMG_5916.JPG', 'IMG_5917.JPG', 'IMG_5918.JPG', 'IMG_5919.JPG', 'IMG_5920.JPG', 'IMG_5921.JPG', 'IMG_5922.JPG', 'IMG_5923.JPG', 'IMG_5924.JPG', 'IMG_5925.JPG', 'IMG_5926.JPG', 'IMG_5927.JPG', 'IMG_5928.JPG', 'IMG_5929.JPG', 'IMG_5930.JPG', 'IMG_5931.JPG', 'IMG_5932.JPG', 'IMG_5933.JPG', 'IMG_5934.JPG', 'IMG_5935.JPG', 'IMG_5936.JPG', 'IMG_5937.JPG', 'IMG_5938.JPG', 'IMG_5939.JPG', 'IMG_5940.JPG', 'IMG_5941.JPG', 'IMG_5942.JPG', 'IMG_5943.JPG', 'IMG_5944.JPG', 'IMG_5945.JPG', 'IMG_5946.JPG', 'IMG_5947.JPG', 'IMG_5948.JPG', 'IMG_5949.JPG', 'IMG_5950.JPG', 'IMG_5951.JPG', 'IMG_5952.JPG', 'IMG_5953.JPG', 'IMG_5954.JPG', 'IMG_5955.JPG', 'IMG_5956.JPG', 'IMG_5957.JPG', 'IMG_5958.JPG', 'IMG_5959.JPG', 'IMG_5960.JPG', 'IMG_5961.JPG', 'IMG_5962.JPG', 'IMG_5963.JPG', 'IMG_5964.JPG', 'IMG_5965.JPG', 'IMG_5966.JPG', 'IMG_5967.JPG', 'IMG_5968.JPG', 'IMG_5969.JPG', 'IMG_5970.JPG', 'IMG_5971.JPG', 'IMG_5972.JPG', 'IMG_5973.JPG']\n",
      "(322, 224, 224, 3)\n",
      "predicting\n",
      "322/322 [==============================] - 108s 336ms/step\n",
      "[[24  8  4  5  3  1  1]\n",
      " [11 25  6  1  2  1  0]\n",
      " [ 5 16 13 10  2  0  0]\n",
      " [ 1  5  7 20 13  0  0]\n",
      " [ 0  2  5  9 21  9  0]\n",
      " [ 7  2  2  4 13 10  8]\n",
      " [ 7  2  1  0  5  8 23]]\n",
      "completed\n"
     ]
    }
   ],
   "source": [
    "#画像全体を配列に変換してから予測する\n",
    "#入力ファイルタイプに注意jpg png\n",
    "import keras\n",
    "import os\n",
    "import glob\n",
    "import numpy as np\n",
    "from PIL import Image\n",
    "from keras.utils import np_utils\n",
    "#from keras.layers.convolutional import Conv2D, MaxPooling2D\n",
    "from keras.models import Sequential, load_model\n",
    "#from keras.layers.core import Dense, Dropout, Activation, Flatten\n",
    "from keras.preprocessing.image import array_to_img, img_to_array,  load_img\n",
    "#list_pictures,\n",
    "from sklearn.metrics import confusion_matrix\n",
    "\n",
    "\n",
    "#ラベル毎にフォルダ分けされた親フォルダ名   ーーー pngだとエラー \n",
    "path='/Users/ohta/OneDrive - 国立研究開発法人 国立循環器病研究センター/TInull_182case_m3top3/TIdata20172018/TIscout_test_retina'\n",
    "#path='/Users/ohta/OneDrive - 国立研究開発法人 国立循環器病研究センター/TInull_182case_m3top3/TIdata20172018/TItest'\n",
    "folders=sorted(glob.glob(path+'/**', recursive=False))\n",
    "category_number=len(folders)\n",
    "print('folders',folders)\n",
    "model=load_model('/Users/ohta/OneDrive - 国立研究開発法人 国立循環器病研究センター/TIscout_model/TI_DNN_20172018_acc069.h5')#モデルも保存する設定にしてあるh5\n",
    "#model=load_model('/Users/ohta/OneDrive - 国立研究開発法人 国立循環器病研究センター/TIscout_model/TI_20172018.h5')\n",
    "\n",
    "X =[]\n",
    "Y = []\n",
    "Fnames=[]\n",
    "size=224 #変換先の画像サイズ\n",
    "categoryname=[]\n",
    "teacher_category=[]\n",
    "\n",
    "for category_num, folder in enumerate(folders):\n",
    "    categoryname.append(os.path.basename(folder))\n",
    "    print('category number',category_num,folder)\n",
    "    \n",
    "    files=sorted(glob.glob(folder+\"/*JPG\")) #\n",
    "    print('detected files',files)\n",
    "    for filepath in files:\n",
    "        #print(filepath)\n",
    "        #img = img_to_array(load_img(filepath, target_size=(size,size))) #color_mode外した\n",
    "        img=Image.open(filepath)\n",
    "        img=img.convert(\"RGB\")\n",
    "        img=img.resize((size,size))\n",
    "        img=np.asarray(img)\n",
    "        X.append(img)\n",
    "        Y.append(category_num) # 教師データ（正解）\n",
    "        teacher_category.append(os.path.basename(folder))\n",
    "        Fnames.append(os.path.basename(filepath))\n",
    "    \n",
    "    # 学習データの取得（非正解画像）\n",
    "    #for filename in list_pictures('./neg/'):\n",
    "        #img = img_to_array(load_img(filepath, target_size=(64,64)))\n",
    "        #X.append(img)\n",
    "        #Y.append(1) # 教師データ（正解）\n",
    "print(Fnames)\n",
    "    # NumPy配列に変換\n",
    "X = np.asarray(X)\n",
    "Y = np.asarray(Y)\n",
    "    # float32型に変換\n",
    "    # 正規化(0～1)   \n",
    "X = X.astype('float32')/255\n",
    "Y = Y.astype('int32')\n",
    "#X=X.respahe(-1,size,size,3)\n",
    "# クラスの形式を変換\n",
    "Y = np_utils.to_categorical(Y, category_number)\n",
    "print(X.shape)    \n",
    "\n",
    "#予測\n",
    "print('predicting')\n",
    "probs=model.predict(X, verbose=1)\n",
    "label=probs.argmax(axis=1)\n",
    "\n",
    "\n",
    "#confusion matrixで表示 sklernを使用\n",
    "#縦が実際の分類結果、横が予測結果なので通常の2x2と逆\n",
    "predict_classes = model.predict_classes(X, batch_size=32)\n",
    "true_classes = np.argmax(Y,1)\n",
    "print(confusion_matrix(true_classes, predict_classes))\n",
    "\n",
    "print(\"completed\")\n"
   ]
  },
  {
   "cell_type": "code",
   "execution_count": 10,
   "metadata": {},
   "outputs": [
    {
     "name": "stdout",
     "output_type": "stream",
     "text": [
      "              0a3           0b2           0c1            a0            a1  \\\n",
      "0    9.793448e-01  2.055427e-02  1.032781e-05  6.534941e-06  6.277101e-05   \n",
      "1    9.999204e-01  5.814256e-05  4.307297e-11  4.924441e-10  3.159518e-08   \n",
      "2    9.862976e-01  1.345943e-02  1.568753e-05  7.035851e-06  1.255183e-04   \n",
      "3    8.492852e-01  1.500646e-01  5.178586e-04  2.808876e-05  7.026989e-05   \n",
      "4    3.824700e-02  9.556587e-01  6.089771e-03  3.273647e-06  7.356696e-07   \n",
      "5    2.566322e-01  6.628829e-01  7.810728e-02  1.234138e-03  8.377423e-04   \n",
      "6    4.528973e-01  5.052047e-01  4.038582e-02  1.101414e-03  3.691596e-04   \n",
      "7    3.138187e-01  5.846501e-01  9.915841e-02  1.731769e-03  5.613135e-04   \n",
      "8    6.909767e-05  1.293889e-04  1.942453e-02  5.431578e-01  4.303240e-01   \n",
      "9    9.999996e-01  3.345550e-07  2.288456e-14  3.108853e-12  1.318451e-09   \n",
      "10   9.999998e-01  2.236222e-07  6.133109e-14  1.311753e-11  1.760965e-08   \n",
      "11   9.996650e-01  5.371984e-05  3.198732e-08  1.151244e-06  2.368653e-04   \n",
      "12   3.168256e-01  2.560942e-04  1.458226e-04  1.322489e-02  4.822572e-01   \n",
      "13   9.999857e-01  1.346802e-05  9.936892e-11  1.784843e-09  6.057710e-07   \n",
      "14   9.654602e-01  3.439552e-02  1.409357e-05  4.280354e-06  7.419246e-05   \n",
      "15   9.267857e-01  7.236127e-02  3.980031e-04  7.444020e-05  3.061476e-04   \n",
      "16   5.518225e-01  4.465148e-01  1.601623e-03  2.245435e-05  2.727234e-05   \n",
      "17   9.652519e-01  3.474259e-02  4.449055e-06  9.539411e-08  7.476320e-07   \n",
      "18   8.121409e-01  1.872609e-01  4.529201e-04  2.657228e-05  9.062125e-05   \n",
      "19   4.841450e-01  4.732527e-01  4.166369e-02  6.290639e-04  2.351857e-04   \n",
      "20   4.461007e-03  9.645319e-01  3.100121e-02  5.368410e-06  1.793611e-07   \n",
      "21   1.503767e-03  2.638763e-01  7.327583e-01  1.809223e-03  4.441984e-05   \n",
      "22   9.992987e-01  7.010386e-04  2.257058e-08  8.318549e-09  2.328670e-07   \n",
      "23   9.306434e-01  6.911151e-02  1.586829e-04  1.224448e-05  5.161491e-05   \n",
      "24   9.986105e-01  4.591906e-04  5.685337e-07  7.651126e-06  4.308576e-04   \n",
      "25   9.999577e-01  4.217595e-05  2.107075e-10  7.449213e-10  1.030359e-07   \n",
      "26   4.045029e-04  5.659584e-06  7.576295e-09  1.425277e-09  1.361147e-07   \n",
      "27   7.433549e-01  2.710273e-03  2.115549e-03  3.376215e-02  2.126992e-01   \n",
      "28   2.839120e-05  1.258636e-04  8.657141e-02  8.390245e-01  7.388821e-02   \n",
      "29   3.467248e-03  5.804082e-02  8.707969e-01  6.401204e-02  3.625441e-03   \n",
      "..            ...           ...           ...           ...           ...   \n",
      "292  5.257327e-01  1.642566e-01  1.663350e-02  9.181957e-03  7.601885e-02   \n",
      "293  3.562932e-03  1.271599e-05  2.817355e-08  2.181115e-08  3.571678e-06   \n",
      "294  4.746273e-01  3.907192e-02  1.304160e-04  2.022265e-04  3.725282e-03   \n",
      "295  5.609897e-05  1.230812e-05  4.555910e-05  1.232290e-04  3.424930e-02   \n",
      "296  7.988032e-05  8.591528e-07  9.168968e-09  4.952789e-10  1.636120e-06   \n",
      "297  1.050747e-03  3.134804e-07  9.096701e-12  1.879274e-12  9.921199e-11   \n",
      "298  3.097176e-01  1.853333e-01  1.274619e-01  9.918080e-02  2.276306e-01   \n",
      "299  1.643610e-07  3.660176e-09  3.412762e-11  2.452667e-13  2.907774e-09   \n",
      "300  1.688568e-08  1.311732e-08  4.754463e-05  3.218843e-02  9.641309e-01   \n",
      "301  1.278569e-06  2.202799e-06  1.396516e-03  9.951513e-02  8.793817e-01   \n",
      "302  1.620276e-01  4.536236e-02  9.958653e-03  1.861254e-02  9.808170e-02   \n",
      "303  5.439716e-03  3.908003e-05  4.182184e-07  9.341022e-07  1.194577e-04   \n",
      "304  4.249128e-01  1.616142e-02  1.551677e-04  2.179791e-04  4.373478e-03   \n",
      "305  2.981113e-02  4.154874e-03  1.149658e-03  3.424869e-03  1.568438e-01   \n",
      "306  1.957836e-07  1.216512e-09  1.939194e-11  4.708708e-13  4.119300e-10   \n",
      "307  1.347387e-04  1.420027e-06  4.186725e-07  2.549672e-08  7.464879e-06   \n",
      "308  1.108199e-01  9.687678e-03  1.464626e-04  3.093623e-05  5.740583e-04   \n",
      "309  8.497738e-03  2.045103e-04  1.737201e-07  8.805670e-08  3.769852e-06   \n",
      "310  1.064794e-02  4.150163e-04  8.654541e-06  6.028784e-06  6.477957e-04   \n",
      "311  1.079999e-02  3.863456e-03  3.166676e-03  2.221878e-02  4.284867e-01   \n",
      "312  2.017866e-03  1.613594e-04  5.603603e-06  1.807154e-06  4.312902e-04   \n",
      "313  2.936974e-01  2.825126e-02  1.026529e-02  7.705549e-02  3.977545e-01   \n",
      "314  1.604075e-02  5.928577e-04  2.309946e-05  2.030499e-05  3.883076e-03   \n",
      "315  6.569052e-01  1.897756e-01  3.504689e-03  3.385111e-03  2.581716e-02   \n",
      "316  3.739015e-06  5.963003e-08  3.296932e-10  2.049396e-11  9.042658e-10   \n",
      "317  2.752646e-01  2.012804e-03  1.066710e-05  7.540574e-06  1.854512e-04   \n",
      "318  2.136962e-01  3.630556e-01  2.814558e-01  5.179634e-02  7.270696e-02   \n",
      "319  5.373271e-08  1.425187e-10  5.855377e-13  1.418969e-14  1.519005e-10   \n",
      "320  7.184327e-02  2.822762e-03  2.168198e-04  1.161141e-04  1.501443e-03   \n",
      "321  6.454473e-01  8.434072e-02  7.089280e-04  4.314234e-04  4.354564e-03   \n",
      "\n",
      "               a2            a3  result_index teacher_index      filename  \n",
      "0    1.170550e-05  9.669168e-06             0           0a3  IMG_5644.JPG  \n",
      "1    7.653841e-07  2.076756e-05             0           0a3  IMG_5645.JPG  \n",
      "2    4.546252e-05  4.924346e-05             0           0a3  IMG_5646.JPG  \n",
      "3    1.882844e-05  1.514584e-05             0           0a3  IMG_5647.JPG  \n",
      "4    2.245926e-07  1.816044e-07             1           0a3  IMG_5648.JPG  \n",
      "5    1.857339e-04  1.200147e-04             1           0a3  IMG_5649.JPG  \n",
      "6    2.876193e-05  1.291707e-05             1           0a3  IMG_5650.JPG  \n",
      "7    5.458588e-05  2.511069e-05             1           0a3  IMG_5651.JPG  \n",
      "8    6.755329e-03  1.398331e-04             3           0a3  IMG_5652.JPG  \n",
      "9    2.399550e-09  2.193648e-08             0           0a3  IMG_5653.JPG  \n",
      "10   1.494176e-08  1.577926e-08             0           0a3  IMG_5654.JPG  \n",
      "11   3.641038e-05  6.662809e-06             0           0a3  IMG_5655.JPG  \n",
      "12   1.803405e-01  6.949863e-03             4           0a3  IMG_5656.JPG  \n",
      "13   1.197381e-07  1.097129e-07             0           0a3  IMG_5657.JPG  \n",
      "14   2.708249e-05  2.466389e-05             0           0a3  IMG_5658.JPG  \n",
      "15   4.284512e-05  3.156436e-05             0           0a3  IMG_5659.JPG  \n",
      "16   5.323138e-06  6.106402e-06             0           0a3  IMG_5660.JPG  \n",
      "17   1.307988e-07  1.299128e-07             0           0a3  IMG_5661.JPG  \n",
      "18   1.820152e-05  9.931781e-06             0           0a3  IMG_5662.JPG  \n",
      "19   4.231257e-05  3.193101e-05             0           0a3  IMG_5663.JPG  \n",
      "20   9.510829e-08  1.375587e-07             1           0a3  IMG_5664.JPG  \n",
      "21   4.856012e-06  3.067317e-06             2           0a3  IMG_5665.JPG  \n",
      "22   2.332052e-08  2.381579e-08             0           0a3  IMG_5666.JPG  \n",
      "23   1.276856e-05  9.964554e-06             0           0a3  IMG_5667.JPG  \n",
      "24   3.072301e-04  1.840211e-04             0           0a3  IMG_5668.JPG  \n",
      "25   1.908198e-08  3.746475e-08             0           0a3  IMG_5669.JPG  \n",
      "26   6.115453e-03  9.934742e-01             6           0a3  IMG_5670.JPG  \n",
      "27   5.178574e-03  1.792252e-04             0           0a3  IMG_5671.JPG  \n",
      "28   3.523384e-04  9.270954e-06             3           0a3  IMG_5672.JPG  \n",
      "29   4.834785e-05  9.127103e-06             2           0a3  IMG_5673.JPG  \n",
      "..            ...           ...           ...           ...           ...  \n",
      "292  1.183822e-01  8.979416e-02             0            a3  IMG_5944.JPG  \n",
      "293  7.073388e-02  9.256869e-01             6            a3  IMG_5945.JPG  \n",
      "294  1.273972e-01  3.548457e-01             0            a3  IMG_5946.JPG  \n",
      "295  9.086860e-01  5.682744e-02             5            a3  IMG_5947.JPG  \n",
      "296  1.312488e-01  8.686687e-01             6            a3  IMG_5948.JPG  \n",
      "297  2.968031e-04  9.986522e-01             6            a3  IMG_5949.JPG  \n",
      "298  4.307469e-02  7.601192e-03             0            a3  IMG_5950.JPG  \n",
      "299  2.178511e-02  9.782147e-01             6            a3  IMG_5951.JPG  \n",
      "300  3.631949e-03  1.097885e-06             4            a3  IMG_5952.JPG  \n",
      "301  1.965128e-02  5.189009e-05             4            a3  IMG_5953.JPG  \n",
      "302  4.467361e-01  2.192210e-01             5            a3  IMG_5954.JPG  \n",
      "303  2.157783e-01  7.786221e-01             6            a3  IMG_5955.JPG  \n",
      "304  1.484408e-01  4.057383e-01             0            a3  IMG_5956.JPG  \n",
      "305  6.182421e-01  1.863737e-01             5            a3  IMG_5957.JPG  \n",
      "306  1.662599e-03  9.983371e-01             6            a3  IMG_5958.JPG  \n",
      "307  5.214777e-02  9.477082e-01             6            a3  IMG_5959.JPG  \n",
      "308  1.522507e-01  7.264903e-01             6            a3  IMG_5960.JPG  \n",
      "309  1.891626e-02  9.723775e-01             6            a3  IMG_5961.JPG  \n",
      "310  2.556343e-01  7.326403e-01             6            a3  IMG_5962.JPG  \n",
      "311  4.604082e-01  7.105609e-02             5            a3  IMG_5963.JPG  \n",
      "312  3.644563e-01  6.329259e-01             6            a3  IMG_5964.JPG  \n",
      "313  1.631448e-01  2.983136e-02             4            a3  IMG_5965.JPG  \n",
      "314  4.131286e-01  5.663112e-01             6            a3  IMG_5966.JPG  \n",
      "315  5.650372e-02  6.410862e-02             0            a3  IMG_5967.JPG  \n",
      "316  2.201985e-03  9.977943e-01             6            a3  IMG_5968.JPG  \n",
      "317  7.605121e-02  6.464677e-01             6            a3  IMG_5969.JPG  \n",
      "318  1.409644e-02  3.192734e-03             1            a3  IMG_5970.JPG  \n",
      "319  6.177127e-03  9.938228e-01             6            a3  IMG_5971.JPG  \n",
      "320  2.063238e-01  7.171758e-01             6            a3  IMG_5972.JPG  \n",
      "321  7.404432e-02  1.906728e-01             0            a3  IMG_5973.JPG  \n",
      "\n",
      "[322 rows x 10 columns]\n"
     ]
    }
   ],
   "source": [
    "#probsから正解ラベルを抽出、ファイル名と共に書き出し\n",
    "\n",
    "import pandas as pd\n",
    "#pngファイルはダメみたい\n",
    "#path='/Users/ohta/OneDrive - 国立研究開発法人 国立循環器病研究センター/TInull_182case_m3top3/TIdata20172018/TItest'\n",
    "path='/Users/ohta/OneDrive - 国立研究開発法人 国立循環器病研究センター/TInull_182case_m3top3/TIdata20172018/TIscout_test_retina'\n",
    "folders=sorted(glob.glob(path+'/**', recursive=False))\n",
    "\n",
    "categoryclass=[]\n",
    "for category_num, folder in enumerate(folders):\n",
    "    categoryclass.append(os.path.basename(folder))  \n",
    "    \n",
    "labels=probs.argmax(axis=1)\n",
    "df = pd.DataFrame(probs,columns=categoryclass)\n",
    "df['result_index']=labels\n",
    "df['teacher_index']=teacher_category\n",
    "df['filename']=Fnames\n",
    "\n",
    "print(df)\n",
    "\n",
    "df.to_csv(path+'DNNresult_TIscout20172018by20172018learn_all_retina.csv', header=True, index=False)\n",
    "\n"
   ]
  },
  {
   "cell_type": "code",
   "execution_count": 14,
   "metadata": {},
   "outputs": [
    {
     "name": "stdout",
     "output_type": "stream",
     "text": [
      "['0a3', '0b2', '0c1', 'a0', 'a1', 'a2', 'a3']\n"
     ]
    }
   ],
   "source": [
    "#print(categoryclass)"
   ]
  },
  {
   "cell_type": "code",
   "execution_count": 6,
   "metadata": {},
   "outputs": [
    {
     "name": "stdout",
     "output_type": "stream",
     "text": [
      "Category-0: 0.001487\n",
      "Category-1: 0.002965\n",
      "Category-2: 0.168351\n",
      "Category-3: 0.598857\n",
      "Category-4: 0.226345\n",
      "Category-5: 0.001948\n",
      "Category-6: 0.000047\n"
     ]
    }
   ],
   "source": [
    "#1枚のファイルを読んで表示\n",
    "\n",
    "import keras\n",
    "import os\n",
    "import glob\n",
    "import numpy as np\n",
    "from PIL import Image\n",
    "from keras.utils import np_utils\n",
    "#from keras.layers.convolutional import Conv2D, MaxPooling2D\n",
    "from keras.models import Sequential, load_model\n",
    "#from keras.layers.core import Dense, Dropout, Activation, Flatten\n",
    "from keras.preprocessing.image import array_to_img, img_to_array,  load_img #, list_pictures\n",
    "from sklearn.metrics import confusion_matrix\n",
    "\n",
    "imgfile='/Users/ohta/Downloads/IMG_6397.JPG'\n",
    "\n",
    "model=load_model('/Users/ohta/OneDrive - 国立研究開発法人 国立循環器病研究センター/TIscout_model/TI_DNN_20172018_acc069.h5')\n",
    "#model=load_model('/Users/ohta/OneDrive - 国立研究開発法人 国立循環器病研究センター/TInull_182case_m3top3/ep_35_ls_1.1.h5')\n",
    "#model=load_model('/Users/ohta/OneDrive - 国立研究開発法人 国立循環器病研究センター/TIscout_model/TI_20172018.h5')#モデルも保存する設定にしてあるh5\n",
    "#model=load_model('/Users/ohta/OneDrive - 国立研究開発法人 国立循環器病研究センター/TIscout_model/TIscout_432_Ohta7_model.h5')\n",
    "\n",
    "\n",
    "image_size=224\n",
    "\n",
    "image = Image.open(imgfile)\n",
    "image = image.convert(\"RGB\").resize((image_size, image_size), Image.ANTIALIAS)\n",
    "image = np.asarray(image, dtype=np.float32).reshape(image_size, image_size, 3)\n",
    "image /= 255.0\n",
    "\n",
    "result = model.predict(np.array([image]), 1)[0]\n",
    "for i, score in enumerate(result):\n",
    "    print(\"Category-%d: %.6f\"%(i, score))"
   ]
  },
  {
   "cell_type": "code",
   "execution_count": 3,
   "metadata": {},
   "outputs": [
    {
     "name": "stdout",
     "output_type": "stream",
     "text": [
      "estimated optimum TI-null is:\n",
      "20msec (@1.5T) or 30msec (@3T)\n",
      "higher than this TI image\n"
     ]
    }
   ],
   "source": [
    "print('estimated optimum TI-null is:')\n",
    "print('20msec (@1.5T) or 30msec (@3T)')\n",
    "print('higher than this TI image')"
   ]
  },
  {
   "cell_type": "code",
   "execution_count": 1,
   "metadata": {},
   "outputs": [
    {
     "name": "stderr",
     "output_type": "stream",
     "text": [
      "Using TensorFlow backend.\n"
     ]
    },
    {
     "ename": "error",
     "evalue": "OpenCV(3.4.5) /Users/travis/build/skvark/opencv-python/opencv/modules/imgproc/src/resize.cpp:3784: error: (-215:Assertion failed) !ssize.empty() in function 'resize'\n",
     "output_type": "error",
     "traceback": [
      "\u001b[0;31m---------------------------------------------------------------------------\u001b[0m",
      "\u001b[0;31merror\u001b[0m                                     Traceback (most recent call last)",
      "\u001b[0;32m<ipython-input-1-4e42ef0a4cbe>\u001b[0m in \u001b[0;36m<module>\u001b[0;34m()\u001b[0m\n\u001b[1;32m     29\u001b[0m \u001b[0;34m\u001b[0m\u001b[0m\n\u001b[1;32m     30\u001b[0m     \u001b[0;31m# スクリーンショットを撮りたい関係で1/4サイズに縮小\u001b[0m\u001b[0;34m\u001b[0m\u001b[0;34m\u001b[0m\u001b[0m\n\u001b[0;32m---> 31\u001b[0;31m     \u001b[0mframe\u001b[0m \u001b[0;34m=\u001b[0m \u001b[0mcv2\u001b[0m\u001b[0;34m.\u001b[0m\u001b[0mresize\u001b[0m\u001b[0;34m(\u001b[0m\u001b[0mframe\u001b[0m\u001b[0;34m,\u001b[0m \u001b[0;34m(\u001b[0m\u001b[0mimage_size\u001b[0m\u001b[0;34m,\u001b[0m \u001b[0mimage_size\u001b[0m\u001b[0;34m)\u001b[0m\u001b[0;34m)\u001b[0m\u001b[0;34m\u001b[0m\u001b[0m\n\u001b[0m\u001b[1;32m     32\u001b[0m     \u001b[0;31m# 加工なし画像を表示する\u001b[0m\u001b[0;34m\u001b[0m\u001b[0;34m\u001b[0m\u001b[0m\n\u001b[1;32m     33\u001b[0m     \u001b[0mcv2\u001b[0m\u001b[0;34m.\u001b[0m\u001b[0mimshow\u001b[0m\u001b[0;34m(\u001b[0m\u001b[0;34m'Raw Frame'\u001b[0m\u001b[0;34m,\u001b[0m \u001b[0mframe\u001b[0m\u001b[0;34m)\u001b[0m\u001b[0;34m\u001b[0m\u001b[0m\n",
      "\u001b[0;31merror\u001b[0m: OpenCV(3.4.5) /Users/travis/build/skvark/opencv-python/opencv/modules/imgproc/src/resize.cpp:3784: error: (-215:Assertion failed) !ssize.empty() in function 'resize'\n"
     ]
    }
   ],
   "source": [
    "\n",
    "#1枚のファイルを読んで表示\n",
    "\n",
    "import keras\n",
    "import os\n",
    "import glob\n",
    "import numpy as np\n",
    "import cv2\n",
    "from PIL import Image\n",
    "from keras.utils import np_utils\n",
    "#from keras.layers.convolutional import Conv2D, MaxPooling2D\n",
    "from keras.models import Sequential, load_model\n",
    "#from keras.layers.core import Dense, Dropout, Activation, Flatten\n",
    "from keras.preprocessing.image import array_to_img, img_to_array, list_pictures, load_img\n",
    "from sklearn.metrics import confusion_matrix\n",
    "\n",
    "imgfile='/Users/ohta/Downloads/IMG_5248.JPG'\n",
    "\n",
    "model=load_model('/Users/ohta/OneDrive - 国立研究開発法人 国立循環器病研究センター/TIscout_model/TIscout_432_Ohta7_model.h5')#モデルも保存する設定にしてあるh5\n",
    "\n",
    "\n",
    "image_size=224# VideoCaptureのインスタンスを作成する。\n",
    "# 引数でカメラを選べれる。\n",
    "cap = cv2.VideoCapture(0)\n",
    "\n",
    "while True:\n",
    "    # VideoCaptureから1フレーム読み込む\n",
    "    ret, frame = cap.read()\n",
    "\n",
    "    # スクリーンショットを撮りたい関係で1/4サイズに縮小\n",
    "    frame = cv2.resize(frame, (image_size, image_size))\n",
    "    # 加工なし画像を表示する\n",
    "    cv2.imshow('Raw Frame', frame)\n",
    "\n",
    "    image = frame\n",
    "    #image = image.convert(\"RGB\").resize((image_size, image_size), Image.ANTIALIAS)\n",
    "    image = np.asarray(image, dtype=np.float32).reshape(image_size, image_size, 3)\n",
    "    image /= 255.0\n",
    "\n",
    "    result = model.predict(np.array([image]), 1)[0]\n",
    "    for i, score in enumerate(result):\n",
    "        print(\"Category-%d: %.2f\"%(i, score))\n",
    "    \n",
    "\n",
    "    # キー入力を1ms待って、k が27（ESC）だったらBreakする\n",
    "    k = cv2.waitKey(1)\n",
    "    if k == 27:\n",
    "        break\n",
    "\n",
    "# キャプチャをリリースして、ウィンドウをすべて閉じる\n",
    "cap.release()\n",
    "cv2.destroyAllWindows()"
   ]
  },
  {
   "cell_type": "code",
   "execution_count": 12,
   "metadata": {
    "collapsed": true
   },
   "outputs": [],
   "source": [
    "cap.release()\n",
    "cv2.destroyAllWindows()"
   ]
  },
  {
   "cell_type": "code",
   "execution_count": null,
   "metadata": {
    "collapsed": true
   },
   "outputs": [],
   "source": [
    "\n",
    "#1枚のファイルを読んで表示\n",
    "\n",
    "import keras\n",
    "import os\n",
    "import glob\n",
    "import numpy as np\n",
    "import cv2\n",
    "from PIL import Image\n",
    "from keras.utils import np_utils\n",
    "#from keras.layers.convolutional import Conv2D, MaxPooling2D\n",
    "from keras.models import Sequential, load_model\n",
    "#from keras.layers.core import Dense, Dropout, Activation, Flatten\n",
    "from keras.preprocessing.image import array_to_img, img_to_array, list_pictures, load_img\n",
    "from sklearn.metrics import confusion_matrix\n",
    "\n",
    "imgfile='/Users/ohta/Downloads/イメージ.jpg'\n",
    "\n",
    "model=load_model('/Users/ohta/OneDrive - 国立研究開発法人 国立循環器病研究センター/TIscout_model/TIscout_432_Ohta7_model.h5')\n",
    "#モデルも保存する設定にしてあるh5\n",
    "\n",
    "\n",
    "image_size=224# VideoCaptureのインスタンスを作成する。\n",
    "\n",
    "print('please send image to downloadfolder from your iphone')\n",
    "print('press ESC key to break')\n",
    "while True:\n",
    "    \n",
    "    if os.path.isfile(imgfile)==True:\n",
    "        break\n",
    "  \n",
    "    # キー入力を1ms待って、k が27（ESC）だったらBreakする\n",
    "    k = cv2.waitKey(1)\n",
    "    if k == 27:\n",
    "        break\n",
    "\n",
    "image = Image.open(imgfile)\n",
    "#image = image.convert(\"RGB\").resize((image_size, image_size), Image.ANTIALIAS)\n",
    "img=img.convert(\"RGB\")\n",
    "img=img.resize((size,size), Image.ANTIALIAS)\n",
    "image = np.asarray(image, dtype=np.float32).reshape(image_size, image_size, 3)\n",
    "image /= 255.0\n",
    "\n",
    "result = model.predict(np.array([image]), 1)[0]\n",
    "for i, score in enumerate(result):\n",
    "    print(\"Category-%d: %.2f\"%(i, score))\n",
    "        \n",
    "# キャプチャをリリースして、ウィンドウをすべて閉じる\n",
    "cap.release()\n",
    "cv2.destroyAllWindows()"
   ]
  },
  {
   "cell_type": "code",
   "execution_count": 3,
   "metadata": {},
   "outputs": [
    {
     "ename": "NameError",
     "evalue": "name 'version' is not defined",
     "output_type": "error",
     "traceback": [
      "\u001b[0;31m---------------------------------------------------------------------------\u001b[0m",
      "\u001b[0;31mNameError\u001b[0m                                 Traceback (most recent call last)",
      "\u001b[0;32m<ipython-input-3-9ef4b080c6cc>\u001b[0m in \u001b[0;36m<module>\u001b[0;34m()\u001b[0m\n\u001b[0;32m----> 1\u001b[0;31m \u001b[0mkeras\u001b[0m \u001b[0;34m-\u001b[0m\u001b[0mversion\u001b[0m\u001b[0;34m\u001b[0m\u001b[0;34m\u001b[0m\u001b[0m\n\u001b[0m",
      "\u001b[0;31mNameError\u001b[0m: name 'version' is not defined"
     ]
    }
   ],
   "source": [
    "keras -version"
   ]
  },
  {
   "cell_type": "code",
   "execution_count": null,
   "metadata": {
    "collapsed": true
   },
   "outputs": [],
   "source": []
  }
 ],
 "metadata": {
  "kernelspec": {
   "display_name": "Python 3",
   "language": "python",
   "name": "python3"
  },
  "language_info": {
   "codemirror_mode": {
    "name": "ipython",
    "version": 3
   },
   "file_extension": ".py",
   "mimetype": "text/x-python",
   "name": "python",
   "nbconvert_exporter": "python",
   "pygments_lexer": "ipython3",
   "version": "3.8.11"
  }
 },
 "nbformat": 4,
 "nbformat_minor": 2
}
